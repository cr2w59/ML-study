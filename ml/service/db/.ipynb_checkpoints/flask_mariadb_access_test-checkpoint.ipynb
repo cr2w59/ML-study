{
 "cells": [
  {
   "cell_type": "markdown",
   "metadata": {},
   "source": [
    "### 파이썬에서 mysql 계열 DB 액세스\n",
    "- 모듈 : pymysql 사용\n",
    "    - $ conda install pymysql -y"
   ]
  },
  {
   "cell_type": "code",
   "execution_count": 1,
   "metadata": {},
   "outputs": [],
   "source": [
    "import pymysql"
   ]
  },
  {
   "cell_type": "code",
   "execution_count": 4,
   "metadata": {},
   "outputs": [],
   "source": [
    "# 1.객체 생성 및 접속\n",
    "connection = pymysql.connect(host='localhost', \n",
    "                             user='root', \n",
    "                             password='12341234', \n",
    "                             db='py_db',\n",
    "                             charset='utf8mb4', \n",
    "                             cursorclass=pymysql.cursors.DictCursor)\n",
    "\n",
    "# 2.Query\n",
    "try:\n",
    "    with connection.cursor() as cursor:\n",
    "        sql = '''\n",
    "        INSERT INTO `py_db`.`tbl_trans_lang_log` \n",
    "            (`oCode`, `tCode`, `oStr`, `tStc`) \n",
    "        VALUES \n",
    "            (%s,%s,%s,%s);\n",
    "        '''\n",
    "        cursor.execute(sql, ('en', 'ko', 'hello2', '안녕2'))\n",
    "    connection.commit()\n",
    "except Exception as e:\n",
    "    print(e)\n",
    "finally:\n",
    "    if connection:\n",
    "        connection.close()"
   ]
  },
  {
   "cell_type": "code",
   "execution_count": null,
   "metadata": {},
   "outputs": [],
   "source": [
    "# 3. 접속, 쿼리, 해제 모듈화\n",
    "# 3-1. 2단계 내용을 함수로 작성\n",
    "# 3-2. db 폴더 밑에 __init__.py 생성\n",
    "# 3-3. 함수를 __init__.py에 갖다넣기\n",
    "# 3-4. ml/__init__.py에 해당 모듈 가져와서 로그 저장 부분 완성\n",
    "\n",
    "def logBackup(na, tCode='ko', oriTxt, tStc):\n",
    "    connection = pymysql.connect(host='localhost', \n",
    "                             user='root', \n",
    "                             password='12341234', \n",
    "                             db='py_db',\n",
    "                             charset='utf8mb4', \n",
    "                             cursorclass=pymysql.cursors.DictCursor)\n",
    "    try:\n",
    "        with connection.cursor() as cursor:\n",
    "            sql = f'''\n",
    "            INSERT INTO `py_db`.`tbl_trans_lang_log` \n",
    "                (`oCode`, `tCode`, `oStr`, `tStc`) \n",
    "            VALUES \n",
    "                ({na},{tCode},{oriTxt},{tStc});\n",
    "            '''\n",
    "            cursor.execute(sql)\n",
    "        connection.commit()\n",
    "    except Exception as e:\n",
    "        print(e)\n",
    "    finally:\n",
    "        if connection:\n",
    "            connection.close()"
   ]
  }
 ],
 "metadata": {
  "kernelspec": {
   "display_name": "Python 3",
   "language": "python",
   "name": "python3"
  },
  "language_info": {
   "codemirror_mode": {
    "name": "ipython",
    "version": 3
   },
   "file_extension": ".py",
   "mimetype": "text/x-python",
   "name": "python",
   "nbconvert_exporter": "python",
   "pygments_lexer": "ipython3",
   "version": "3.7.4"
  }
 },
 "nbformat": 4,
 "nbformat_minor": 4
}
