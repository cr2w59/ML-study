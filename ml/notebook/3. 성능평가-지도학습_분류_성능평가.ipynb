{
 "cells": [
  {
   "cell_type": "markdown",
   "metadata": {},
   "source": [
    "## 성능평가\n",
    "\n",
    "- 평가 항목 방식 케이스\n",
    "    - 지도학습의 분류\n",
    "        - 혼동행렬(정확도, f1-score, 정밀도, 재현율), AUC, ROC\n",
    "    - 지도학습의 회귀\n",
    "        - 손실\n",
    "    - 비지도학습\n",
    "    - 강화학습"
   ]
  },
  {
   "cell_type": "markdown",
   "metadata": {},
   "source": [
    "### 머신러닝 > 지도학습 > 분류 > 성능평가 지표\n",
    "\n",
    "- 통계학의 혼동행렬이라는 항목을 이용하여 평가\n",
    "- 개요\n",
    "    - 예측값이 실제 관측값을 얼마나 정확하게 예측했는가?\n",
    "    - 이 사항을 보여주는 행렬\n",
    "    - 예\n",
    "        - 암 여부를 예측했는데 실제로도 악성인지 예측하는 예\n",
    "        - 실제는 병이 있었는데 있다고 예측/없다고 예측\n",
    "        - 실제는 병이 없었는데 있다고 예측/없다고 예측"
   ]
  },
  {
   "cell_type": "markdown",
   "metadata": {},
   "source": [
    "|실제|예측 Positive|예측 Negative|\n",
    "|:--:|:--:|:--:|\n",
    "|Positive|TP|FN|\n",
    "|Negative|FP|TN|"
   ]
  },
  {
   "cell_type": "markdown",
   "metadata": {},
   "source": [
    "- 참긍정: TP\n",
    "    - 병이 있다고 예측, 실제로 병이 있음\n",
    "- 참부정: TN\n",
    "    - 병이 없다고 예측, 실제로 병이 없음\n",
    "- 거짓긍정: FP(1종 오류)\n",
    "    - 병이 있다고 예측, 실제로 병이 없음\n",
    "- 거짓부정: FN(2종 오류)\n",
    "    - 병이 없다고 예측, 실제로 병이 있음"
   ]
  },
  {
   "cell_type": "markdown",
   "metadata": {},
   "source": [
    "- 정밀도(precision)\n",
    "    - 병이 있다고 예측을 했는데, 실제로 병이 있는 비율. 정답율\n",
    "    - P = TP / (TP + FP)\n",
    "- 재현율(recall)\n",
    "    - 실제로 병이 있는 전체 데이터 중에 참긍정 비율\n",
    "    - R = TP / (TP + FN)\n",
    "- F1 점수\n",
    "    - 정밀도와 재현율의 조화평균(Harmonic mean)\n",
    "    - F1 = 2 / (1/P + 1/R)\n",
    "- 특이성\n",
    "    - 실제 병이 없는 전체 중 참부정(TN)의 비율\n",
    "    - TN / (TN + FP)\n",
    "- 곡선하 면적(ROC): Area under Curve ROC => ROC 곡선\n",
    "    - 참긍정률과 거짓부정률 사이의 관계 표현\n",
    "    - 1 - 특이성\n",
    "    - AUC: ROC의 상세값(수치)"
   ]
  },
  {
   "cell_type": "markdown",
   "metadata": {},
   "source": [
    "#### 실제 데이터를 이용하여 성능평가를 수행\n",
    "\n",
    "- 데이터: 아이리스 활용"
   ]
  },
  {
   "cell_type": "code",
   "execution_count": 3,
   "metadata": {},
   "outputs": [],
   "source": [
    "from matplotlib import pyplot as plt\n",
    "from sklearn.datasets import load_iris\n",
    "import pandas as pd"
   ]
  },
  {
   "cell_type": "code",
   "execution_count": 10,
   "metadata": {},
   "outputs": [
    {
     "data": {
      "text/plain": [
       "(array([[5.1, 3.5, 1.4, 0.2]]),\n",
       " ['sepal length (cm)',\n",
       "  'sepal width (cm)',\n",
       "  'petal length (cm)',\n",
       "  'petal width (cm)'],\n",
       " array(['setosa', 'versicolor', 'virginica'], dtype='<U10'),\n",
       " array([2, 2, 2]))"
      ]
     },
     "execution_count": 10,
     "metadata": {},
     "output_type": "execute_result"
    }
   ],
   "source": [
    "ds = load_iris()\n",
    "ds.data[:1], ds.feature_names, ds.target_names, ds.target[-3:]"
   ]
  },
  {
   "cell_type": "code",
   "execution_count": 25,
   "metadata": {},
   "outputs": [
    {
     "data": {
      "text/html": [
       "<div>\n",
       "<style scoped>\n",
       "    .dataframe tbody tr th:only-of-type {\n",
       "        vertical-align: middle;\n",
       "    }\n",
       "\n",
       "    .dataframe tbody tr th {\n",
       "        vertical-align: top;\n",
       "    }\n",
       "\n",
       "    .dataframe thead th {\n",
       "        text-align: right;\n",
       "    }\n",
       "</style>\n",
       "<table border=\"1\" class=\"dataframe\">\n",
       "  <thead>\n",
       "    <tr style=\"text-align: right;\">\n",
       "      <th></th>\n",
       "      <th>sepal length (cm)</th>\n",
       "      <th>sepal width (cm)</th>\n",
       "      <th>petal length (cm)</th>\n",
       "      <th>petal width (cm)</th>\n",
       "      <th>species</th>\n",
       "    </tr>\n",
       "  </thead>\n",
       "  <tbody>\n",
       "    <tr>\n",
       "      <td>148</td>\n",
       "      <td>6.2</td>\n",
       "      <td>3.4</td>\n",
       "      <td>5.4</td>\n",
       "      <td>2.3</td>\n",
       "      <td>virginica</td>\n",
       "    </tr>\n",
       "    <tr>\n",
       "      <td>149</td>\n",
       "      <td>5.9</td>\n",
       "      <td>3.0</td>\n",
       "      <td>5.1</td>\n",
       "      <td>1.8</td>\n",
       "      <td>virginica</td>\n",
       "    </tr>\n",
       "  </tbody>\n",
       "</table>\n",
       "</div>"
      ],
      "text/plain": [
       "     sepal length (cm)  sepal width (cm)  petal length (cm)  petal width (cm)  \\\n",
       "148                6.2               3.4                5.4               2.3   \n",
       "149                5.9               3.0                5.1               1.8   \n",
       "\n",
       "       species  \n",
       "148  virginica  \n",
       "149  virginica  "
      ]
     },
     "execution_count": 25,
     "metadata": {},
     "output_type": "execute_result"
    }
   ],
   "source": [
    "def attach_iris():\n",
    "    ds = load_iris()\n",
    "    df = pd.DataFrame(ds.data, columns=ds.feature_names)\n",
    "    # species라는 컬럼 추가 => 값은 setosa, versicolor, virginica 중 하나로 설정\n",
    "    df['species'] = ds.target_names[ds.target]\n",
    "#     df['species'] = ds.target\n",
    "    return df\n",
    "df = attach_iris()\n",
    "df.tail(2)"
   ]
  },
  {
   "cell_type": "markdown",
   "metadata": {},
   "source": [
    "### 분류 알고리즘을 다양하게 사용하여 교차 성능평가 수행\n",
    "\n",
    "- 하이퍼파라미터 튜닝 + 파이프라인\n",
    "- 각각 알고리즘별로 적용하여 시각화 및 수치 비교(사용)"
   ]
  },
  {
   "cell_type": "code",
   "execution_count": 29,
   "metadata": {},
   "outputs": [],
   "source": [
    "import sklearn\n",
    "from sklearn.metrics import roc_curve, auc\n",
    "from sklearn.model_selection import train_test_split"
   ]
  },
  {
   "cell_type": "code",
   "execution_count": 30,
   "metadata": {},
   "outputs": [],
   "source": [
    "# 알고리즘\n",
    "# 향후 알고리즘에 대한 이해와 데이터에 대한 적합성에 대한 식견이 좀 더 보완되면 알고리즘 후보를 적합하게 추릴 수 있을 것\n",
    "from sklearn.linear_model import LogisticRegression\n",
    "from sklearn.tree import DecisionTreeClassifier\n",
    "from sklearn.ensemble import RandomForestClassifier\n",
    "from sklearn.naive_bayes import GaussianNB"
   ]
  },
  {
   "cell_type": "code",
   "execution_count": 35,
   "metadata": {},
   "outputs": [],
   "source": [
    "# 알고리즘 시각화를 위해 사전 설정\n",
    "# 선형 그래프의 모양을 지정\n",
    "# 파라미터 값은 임의로 부여\n",
    "class_map = {\n",
    "    'LogisticRegression':('-', LogisticRegression() ),\n",
    "    'DecisionTreeClassifier':('--', DecisionTreeClassifier(max_depth=5) ),\n",
    "    'RandomForestClassifier':('.-', RandomForestClassifier(max_depth=5, \n",
    "                                                           n_estimators=10, max_features=1) ),\n",
    "    'GaussianNB':(':', GaussianNB() )\n",
    "}"
   ]
  },
  {
   "cell_type": "code",
   "execution_count": 36,
   "metadata": {},
   "outputs": [
    {
     "name": "stdout",
     "output_type": "stream",
     "text": [
      "LogisticRegression ('-', LogisticRegression(C=1.0, class_weight=None, dual=False, fit_intercept=True,\n",
      "                   intercept_scaling=1, l1_ratio=None, max_iter=100,\n",
      "                   multi_class='auto', n_jobs=None, penalty='l2',\n",
      "                   random_state=None, solver='lbfgs', tol=0.0001, verbose=0,\n",
      "                   warm_start=False))\n",
      "DecisionTreeClassifier ('--', DecisionTreeClassifier(ccp_alpha=0.0, class_weight=None, criterion='gini',\n",
      "                       max_depth=5, max_features=None, max_leaf_nodes=None,\n",
      "                       min_impurity_decrease=0.0, min_impurity_split=None,\n",
      "                       min_samples_leaf=1, min_samples_split=2,\n",
      "                       min_weight_fraction_leaf=0.0, presort='deprecated',\n",
      "                       random_state=None, splitter='best'))\n",
      "RandomForestClassifier ('.-', RandomForestClassifier(bootstrap=True, ccp_alpha=0.0, class_weight=None,\n",
      "                       criterion='gini', max_depth=5, max_features=1,\n",
      "                       max_leaf_nodes=None, max_samples=None,\n",
      "                       min_impurity_decrease=0.0, min_impurity_split=None,\n",
      "                       min_samples_leaf=1, min_samples_split=2,\n",
      "                       min_weight_fraction_leaf=0.0, n_estimators=10,\n",
      "                       n_jobs=None, oob_score=False, random_state=None,\n",
      "                       verbose=0, warm_start=False))\n",
      "GaussianNB (':', GaussianNB(priors=None, var_smoothing=1e-09))\n"
     ]
    }
   ],
   "source": [
    "for k, v in class_map.items():\n",
    "    print(k,v)"
   ]
  },
  {
   "cell_type": "code",
   "execution_count": 37,
   "metadata": {},
   "outputs": [
    {
     "data": {
      "text/plain": [
       "(150, 4)"
      ]
     },
     "execution_count": 37,
     "metadata": {},
     "output_type": "execute_result"
    }
   ],
   "source": [
    "# 데이터 정리\n",
    "X = df[df.columns[:4]]\n",
    "X.shape"
   ]
  },
  {
   "cell_type": "code",
   "execution_count": 39,
   "metadata": {},
   "outputs": [
    {
     "data": {
      "text/plain": [
       "array(['setosa', 'versicolor', 'virginica'], dtype=object)"
      ]
     },
     "execution_count": 39,
     "metadata": {},
     "output_type": "execute_result"
    }
   ],
   "source": [
    "df['species'].unique()"
   ]
  },
  {
   "cell_type": "code",
   "execution_count": 40,
   "metadata": {},
   "outputs": [
    {
     "data": {
      "text/plain": [
       "(pandas.core.series.Series, 0    False\n",
       " 1    False\n",
       " Name: species, dtype: bool)"
      ]
     },
     "execution_count": 40,
     "metadata": {},
     "output_type": "execute_result"
    }
   ],
   "source": [
    "Y = df['species'] == 'versicolor'\n",
    "type(Y), Y[:2]"
   ]
  },
  {
   "cell_type": "code",
   "execution_count": 41,
   "metadata": {},
   "outputs": [],
   "source": [
    "X_train, X_test, y_train, y_test = train_test_split(X, Y, test_size=0.8)"
   ]
  },
  {
   "cell_type": "code",
   "execution_count": 46,
   "metadata": {},
   "outputs": [
    {
     "data": {
      "text/plain": [
       "((30, 4), (120, 4), (30,), (120,))"
      ]
     },
     "execution_count": 46,
     "metadata": {},
     "output_type": "execute_result"
    }
   ],
   "source": [
    "X_train.shape, X_test.shape, y_train.shape, y_test.shape"
   ]
  },
  {
   "cell_type": "code",
   "execution_count": 54,
   "metadata": {},
   "outputs": [
    {
     "name": "stdout",
     "output_type": "stream",
     "text": [
      "LogisticRegression : 0.780943336498892\n",
      "DecisionTreeClassifier : 0.949667616334283\n",
      "RandomForestClassifier : 0.9838556505223173\n",
      "GaussianNB : 0.9838556505223172\n"
     ]
    },
    {
     "data": {
      "image/png": "[encoded data removed]",
      "text/plain": [
       "<Figure size 576x576 with 1 Axes>"
      ]
     },
     "metadata": {
      "needs_background": "light"
     },
     "output_type": "display_data"
    }
   ],
   "source": [
    "class_map = {\n",
    "    'LogisticRegression':('-', LogisticRegression() ),\n",
    "    'DecisionTreeClassifier':('--', DecisionTreeClassifier(max_depth=5) ),\n",
    "    'RandomForestClassifier':('.-', RandomForestClassifier(max_depth=5, \n",
    "                                                           n_estimators=10, max_features=1) ),\n",
    "    'GaussianNB':(':', GaussianNB() )\n",
    "}\n",
    "\n",
    "# 시각화를 통해 성능 확인(ROC, AUC)\n",
    "plt.figure( figsize=(8,8) )\n",
    "\n",
    "for name, (lineStyle, model) in class_map.items():\n",
    "    model.fit(X_train, y_train)\n",
    "    # 에측\n",
    "    # 예측에 대한 확률로 예측: 0,1 중 1이 될 확률이 0.57% => 1을 더 많이 예측하는 모델\n",
    "    preds = model.predict_proba(X_test)\n",
    "    # preds의 type을 y_test에 맞춰줌(Series)\n",
    "    pred = pd.Series( preds[:,1] )\n",
    "    # ROC 값 획득\n",
    "    # return 1.fpr: 거짓양성비/ 2. tpr: 참양성비 / 3. 버리는 변수(결정함수가 사용한 임계값. 지금 필요없지만 받기는 해야 함)\n",
    "    fpr, tpr, _ = roc_curve( y_test, pred )\n",
    "    # ROC 드로잉\n",
    "    # AUC 표시 -> 수치\n",
    "    auc_score = auc(fpr, tpr)\n",
    "    print( f'{name} : {auc_score}')\n",
    "    \n",
    "    # 선 그리기\n",
    "    plt.plot(fpr, tpr, lineStyle, linewidth=4, label=name )\n",
    "    pass\n",
    "\n",
    "# 시각화 마무리\n",
    "plt.legend() # 범례 표시\n",
    "plt.plot( [0,1], [0,1], 'k--' ) # 대각선\n",
    "plt.show()"
   ]
  },
  {
   "cell_type": "code",
   "execution_count": 56,
   "metadata": {},
   "outputs": [],
   "source": [
    "from sklearn.svm import SVC"
   ]
  },
  {
   "cell_type": "code",
   "execution_count": 70,
   "metadata": {},
   "outputs": [
    {
     "name": "stdout",
     "output_type": "stream",
     "text": [
      "LogisticRegression : 0.780943336498892\n",
      "DecisionTreeClassifier : 0.949667616334283\n",
      "RandomForestClassifier : 0.9708768597657487\n",
      "GaussianNB : 0.9838556505223172\n",
      "SVC : 0.9879708768597657\n"
     ]
    },
    {
     "data": {
      "image/png": "[encoded data removed]",
      "text/plain": [
       "<Figure size 864x864 with 1 Axes>"
      ]
     },
     "metadata": {
      "needs_background": "light"
     },
     "output_type": "display_data"
    }
   ],
   "source": [
    "class_map = {\n",
    "    'LogisticRegression':('-', LogisticRegression() ),\n",
    "    'DecisionTreeClassifier':('--', DecisionTreeClassifier(max_depth=5) ),\n",
    "    'RandomForestClassifier':('.-', RandomForestClassifier(max_depth=5, \n",
    "                                                           n_estimators=10, max_features=1) ),\n",
    "    'GaussianNB':(':', GaussianNB() ),\n",
    "    'SVC':('-*', SVC(probability=True) )\n",
    "}\n",
    "plt.figure( figsize=(12,12) )\n",
    "\n",
    "for name, (lineStyle, model) in class_map.items():\n",
    "    model.fit(X_train, y_train)\n",
    "    preds = model.predict_proba(X_test)\n",
    "    pred = pd.Series( preds[:,1] )\n",
    "    fpr, tpr, _ = roc_curve( y_test, pred )\n",
    "    auc_score = auc(fpr, tpr)\n",
    "    print( f'{name} : {auc_score}')\n",
    "    plt.plot(fpr, tpr, lineStyle, linewidth=3, label=name )\n",
    "    pass\n",
    "\n",
    "plt.legend()\n",
    "plt.plot( [0,1], [0,1], 'k--' )\n",
    "plt.xlabel('False Positive Rate')\n",
    "plt.ylabel('True Positive Rate')\n",
    "# plt.ylim(0.4,1)\n",
    "plt.show()"
   ]
  },
  {
   "cell_type": "code",
   "execution_count": null,
   "metadata": {},
   "outputs": [],
   "source": []
  }
 ],
 "metadata": {
  "kernelspec": {
   "display_name": "Python 3",
   "language": "python",
   "name": "python3"
  },
  "language_info": {
   "codemirror_mode": {
    "name": "ipython",
    "version": 3
   },
   "file_extension": ".py",
   "mimetype": "text/x-python",
   "name": "python",
   "nbconvert_exporter": "python",
   "pygments_lexer": "ipython3",
   "version": "3.7.4"
  }
 },
 "nbformat": 4,
 "nbformat_minor": 2
}
