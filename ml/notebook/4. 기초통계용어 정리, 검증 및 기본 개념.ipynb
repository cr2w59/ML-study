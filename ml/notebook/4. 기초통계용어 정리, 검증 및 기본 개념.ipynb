{
 "cells": [
  {
   "cell_type": "markdown",
   "metadata": {},
   "source": [
    "## 통계 모델링 vs 머신러닝 모델링"
   ]
  },
  {
   "cell_type": "markdown",
   "metadata": {},
   "source": [
    "| 순서 | 통계                                                         | 머신러닝                                                     |\n",
    "| :--: | :----------------------------------------------------------- | :----------------------------------------------------------- |\n",
    "|  1   | 변수간 관계를 수학식으로 정형화                              | 데이터로부터 학습이 가능한 알고리즘을 사용<br>(규칙 기반 프로그래밍 방식이 필요 없음) |\n",
    "|  2   | 전제, 데이터에 맞는 모델 적합화 수행 전 곡선 형태를 가정<br>(선형, 다형) | 주어진 데이터로부터 복잡합 패턴을 스스로 학습<br>(곡선 형태의 가정 필요 없음) |\n",
    "|  3   | 표현 ex. 85%의 정확도, 92%의 신뢰수준으로 결과 예측          | 표현 ex. 정확도 86%로 예측(분류), <br>성능평가지수 0.5로 수렴(회귀) |\n",
    "|  4   | P값의 다양한 매개변수 결과를 예측                            | 통계적 유의성 전달 안 함                                     |\n",
    "|  5   | 훈련:테스트=7:3                                              | 훈련:테스트=(50:25):25                                       |\n",
    "|  6   | 훈련 데이터만으로 개발                                       | 훈련/검증 데이터 필요                                        |\n",
    "|  7   | 연구 목적, 증명 대부분                                       | 실제 환경을 구현                                             |\n",
    "|  8   | 통계학과, 수학과                                             | 전산학과                                                     |"
   ]
  },
  {
   "cell_type": "markdown",
   "metadata": {},
   "source": [
    "## 통계 기본 이론\n",
    "\n",
    "- 예측 분석학\n",
    "- 대전제: 역사는 반복적이다\n",
    "- 과거 데이터에 대한 적합화를 수행하여 이를 테스트함\n",
    "  - 결과 성능에 대한 척도가 검증되면, 동일모델에서 미래 예측에 활용\n",
    "- 독립 변수(=관측치, 입력변수, 특징, feature, 설명변수)\n",
    "- 종속 변수(=레이블, 결과변수, 반응변수, 응답변수, 설명된변수, 측정된변수, 실험변수)\n",
    "- 변수들로 이루어진 수학식으로 계산 후 실제에 적용, 추정\n",
    "- 모든 변수들이 만족하는 기본 가정 존재"
   ]
  },
  {
   "cell_type": "markdown",
   "metadata": {},
   "source": [
    "## 기술 통계 용어 정리\n",
    "\n",
    "<img src='../table/s_0.png'>\n",
    "\n",
    "* 모집단: 데이터 **전체**, 관측값 전체, 연구 중 데이터 전체\n",
    "* 표본: 모집단의 부분 집합, 분석 중 모집단의 **일부**\n",
    "* 매개변수\n",
    "\n",
    "<img src='../table/s_1.png'>\n",
    "\n",
    "* 평균: 산술평균 / 이상치(특이값)의 영향이 큼\n",
    "* 중간값: 정렬한 데이터의 가운데 값"
   ]
  },
  {
   "cell_type": "code",
   "execution_count": 72,
   "metadata": {},
   "outputs": [],
   "source": [
    "# scipy를 이용하여 통계 처리\n",
    "from scipy import stats\n",
    "import numpy as np\n",
    "import pandas as pd"
   ]
  },
  {
   "cell_type": "code",
   "execution_count": 73,
   "metadata": {},
   "outputs": [],
   "source": [
    "data = [5,2,6,8,7,4,5,1,9,5,8,3,6,6,2,1,4,5,8,4,7,6,2,3,9,2,1,1,4,7,8,8,4,5,6,9,5,6,8,2,3,6,1,4,7]"
   ]
  },
  {
   "cell_type": "code",
   "execution_count": 74,
   "metadata": {},
   "outputs": [],
   "source": [
    "# scipy의 베이스는 numpy. numpy는 array가 기본 자료형\n",
    "data = np.array( data )"
   ]
  },
  {
   "cell_type": "code",
   "execution_count": 75,
   "metadata": {},
   "outputs": [
    {
     "data": {
      "text/plain": [
       "(4.955555555555556, 4.96)"
      ]
     },
     "execution_count": 75,
     "metadata": {},
     "output_type": "execute_result"
    }
   ],
   "source": [
    "# 평균\n",
    "np.mean(data), round(np.mean(data),2)"
   ]
  },
  {
   "cell_type": "code",
   "execution_count": 76,
   "metadata": {},
   "outputs": [
    {
     "data": {
      "text/plain": [
       "5.0"
      ]
     },
     "execution_count": 76,
     "metadata": {},
     "output_type": "execute_result"
    }
   ],
   "source": [
    "# 중간값\n",
    "np.median(data)"
   ]
  },
  {
   "cell_type": "code",
   "execution_count": 77,
   "metadata": {},
   "outputs": [
    {
     "data": {
      "text/plain": [
       "(ModeResult(mode=array([6]), count=array([7])), 6)"
      ]
     },
     "execution_count": 77,
     "metadata": {},
     "output_type": "execute_result"
    }
   ],
   "source": [
    "# 최빈값\n",
    "mode = stats.mode(data)\n",
    "mode, mode[0][0]"
   ]
  },
  {
   "cell_type": "code",
   "execution_count": 78,
   "metadata": {},
   "outputs": [
    {
     "data": {
      "text/html": [
       "<div>\n",
       "<style scoped>\n",
       "    .dataframe tbody tr th:only-of-type {\n",
       "        vertical-align: middle;\n",
       "    }\n",
       "\n",
       "    .dataframe tbody tr th {\n",
       "        vertical-align: top;\n",
       "    }\n",
       "\n",
       "    .dataframe thead th {\n",
       "        text-align: right;\n",
       "    }\n",
       "</style>\n",
       "<table border=\"1\" class=\"dataframe\">\n",
       "  <thead>\n",
       "    <tr style=\"text-align: right;\">\n",
       "      <th></th>\n",
       "      <th>0</th>\n",
       "    </tr>\n",
       "  </thead>\n",
       "  <tbody>\n",
       "    <tr>\n",
       "      <td>count</td>\n",
       "      <td>45.000000</td>\n",
       "    </tr>\n",
       "    <tr>\n",
       "      <td>mean</td>\n",
       "      <td>4.955556</td>\n",
       "    </tr>\n",
       "    <tr>\n",
       "      <td>std</td>\n",
       "      <td>2.467567</td>\n",
       "    </tr>\n",
       "    <tr>\n",
       "      <td>min</td>\n",
       "      <td>1.000000</td>\n",
       "    </tr>\n",
       "    <tr>\n",
       "      <td>25%</td>\n",
       "      <td>3.000000</td>\n",
       "    </tr>\n",
       "    <tr>\n",
       "      <td>50%</td>\n",
       "      <td>5.000000</td>\n",
       "    </tr>\n",
       "    <tr>\n",
       "      <td>75%</td>\n",
       "      <td>7.000000</td>\n",
       "    </tr>\n",
       "    <tr>\n",
       "      <td>max</td>\n",
       "      <td>9.000000</td>\n",
       "    </tr>\n",
       "  </tbody>\n",
       "</table>\n",
       "</div>"
      ],
      "text/plain": [
       "               0\n",
       "count  45.000000\n",
       "mean    4.955556\n",
       "std     2.467567\n",
       "min     1.000000\n",
       "25%     3.000000\n",
       "50%     5.000000\n",
       "75%     7.000000\n",
       "max     9.000000"
      ]
     },
     "execution_count": 78,
     "metadata": {},
     "output_type": "execute_result"
    }
   ],
   "source": [
    "df = pd.DataFrame(data)\n",
    "df.describe()"
   ]
  },
  {
   "cell_type": "markdown",
   "metadata": {},
   "source": [
    "### 산포도\n",
    "\n",
    "* 산포\n",
    "  * 데이터가 얼마나 퍼져 있는가(변량)\n",
    "  * 데이터 변수가 부적합한 값을 가지고 있는지 측정\n",
    "  * 데이터가 중심에 모이지 않고 얼마나 흩어져있는지 제공\n",
    "* 범위\n",
    "  * 최대값과 최소값의 차이\n",
    "* 분산\n",
    "  * 평균과 관측값의 차이를 제곱한 값들의 평균\n",
    "  * 기대값으로부터 얼마나 떨어진 곳에 데이터가 분포하는지 가늠하는 수치\n",
    "* 표준편차\n",
    "  * 분산의 제곱근\n",
    "  * 분산보다 더 많이 활용됨\n",
    "* 분위수\n",
    "  * 데이터를 동일한 조각으로 분할"
   ]
  },
  {
   "cell_type": "markdown",
   "metadata": {},
   "source": [
    "<img src='../table/s_2.png'>"
   ]
  },
  {
   "cell_type": "markdown",
   "metadata": {},
   "source": [
    "## 정규분포\n",
    "<img src='../table/확률변수_확률분포_확률_이산확률변수.jpg'>"
   ]
  },
  {
   "cell_type": "markdown",
   "metadata": {},
   "source": [
    "- 동전을 두번 던진다. 동전은 앞면(H), 뒷면(T) 2개가 존재한다\n",
    "\n",
    "  - 동전을 두번 던졌을때 나올 수 있는 경우의 수(S). S={HH, HT, TH, TT}\n",
    "    - **정의역, 표본공간, S**\n",
    "  - 동전을 두번 던졌을때 앞면이 나오는 케이스는\n",
    "    - HH ->2, HT, TH ->1 TT ->0 에 대응\n",
    "    - 0, 1, 2 이것을 실수 공간 값들 중에서 HH가 0에 대응하고, HT와 TH가 1에 대응하도록 정의하는 게 대응방식 -> 관계를 정의하는 함수 -> 확률변수\n",
    "\n",
    "- 정의역이 표본공간이고, 공역이 실수 전체의 집합인 함수가 *확률변수*\n",
    "\n",
    "- 실수 공간(공역)의 어떤 값이 표본 공간(S)의 원소들과 어떻게 연결할지 정의하는 함수가 *확률변수*\n",
    "\n",
    "  \n",
    "\n",
    "- **이산확률변수**: 공역을 셀 수 있을때의 확률변수\n",
    "- **확률분포**: 공역인 X를 정의역으로, 확률을 공역으로 봤을 때 두 가지가 대응되는 관계->함수->확률분포\n",
    "- **정규분포**\n",
    "  - 가우시안 분포\n",
    "  - 연속 확률 분포의 하나\n",
    "  - 수집된 자료(표본)의 분포를 근사하는 데 사용\n",
    "  <img src='https://dbscthumb-phinf.pstatic.net/3955_000_1/20180117204936312_0S0V0BBAE.gif/EchelonApprox.gif?type=w646_fst_n'>\n",
    "  \n",
    "- 특징\n",
    "    - 중심극한정리: 독립적인 확률변수들의 평균이 정규분포에 가까워지려는 성질\n",
    "      - ex. 입학 시험 점수가 정규 분포를 따른다.\n",
    "        - 평균 점수가 52점이다. 표준편차 16.3인 경우\n",
    "        - 몇 %가 67점이상을 받을 것인가?\n",
    "    <img src='../table/s_4.png'>"
   ]
  },
  {
   "cell_type": "code",
   "execution_count": 80,
   "metadata": {},
   "outputs": [
    {
     "data": {
      "text/plain": [
       "17.87"
      ]
     },
     "execution_count": 80,
     "metadata": {},
     "output_type": "execute_result"
    }
   ],
   "source": [
    "xbar = 67\n",
    "mu = 52\n",
    "s = 16.3\n",
    "\n",
    "# z-score 표준값\n",
    "# 정규분포를 만들고, 개개의 경우가 표준편차상의 어떤 위치를 차지하는지 보여주는 수치\n",
    "z = (xbar-mu) / s\n",
    "\n",
    "# 67점 이상 면적이 어떻게 되는가 -> 곡선하 확률 면적 계산\n",
    "p = 1 - stats.norm.cdf(z)\n",
    "round(p*100, 2)"
   ]
  },
  {
   "cell_type": "markdown",
   "metadata": {},
   "source": [
    "### 카이제곱검정\n",
    "\n",
    "- 범주형 데이터의 통계 분석시 사용\n",
    "- 2개의 범주형 변수 X, Y가 있다\n",
    "- 2개의 변수 사이의 통계적인 상관성이 존재하는가"
   ]
  },
  {
   "cell_type": "code",
   "execution_count": 15,
   "metadata": {},
   "outputs": [
    {
     "data": {
      "text/plain": [
       "(237, 12)"
      ]
     },
     "execution_count": 15,
     "metadata": {},
     "output_type": "execute_result"
    }
   ],
   "source": [
    "survey = pd.read_csv('../table/survey.csv')\n",
    "survey.shape"
   ]
  },
  {
   "cell_type": "code",
   "execution_count": 16,
   "metadata": {},
   "outputs": [
    {
     "data": {
      "text/html": [
       "<div>\n",
       "<style scoped>\n",
       "    .dataframe tbody tr th:only-of-type {\n",
       "        vertical-align: middle;\n",
       "    }\n",
       "\n",
       "    .dataframe tbody tr th {\n",
       "        vertical-align: top;\n",
       "    }\n",
       "\n",
       "    .dataframe thead th {\n",
       "        text-align: right;\n",
       "    }\n",
       "</style>\n",
       "<table border=\"1\" class=\"dataframe\">\n",
       "  <thead>\n",
       "    <tr style=\"text-align: right;\">\n",
       "      <th></th>\n",
       "      <th>Sex</th>\n",
       "      <th>Wr.Hnd</th>\n",
       "      <th>NW.Hnd</th>\n",
       "      <th>W.Hnd</th>\n",
       "      <th>Fold</th>\n",
       "      <th>Pulse</th>\n",
       "      <th>Clap</th>\n",
       "      <th>Exer</th>\n",
       "      <th>Smoke</th>\n",
       "      <th>Height</th>\n",
       "      <th>M.I</th>\n",
       "      <th>Age</th>\n",
       "    </tr>\n",
       "  </thead>\n",
       "  <tbody>\n",
       "    <tr>\n",
       "      <td>234</td>\n",
       "      <td>Female</td>\n",
       "      <td>17.5</td>\n",
       "      <td>16.5</td>\n",
       "      <td>Right</td>\n",
       "      <td>R on L</td>\n",
       "      <td>NaN</td>\n",
       "      <td>Right</td>\n",
       "      <td>Some</td>\n",
       "      <td>Never</td>\n",
       "      <td>170.0</td>\n",
       "      <td>Metric</td>\n",
       "      <td>18.583</td>\n",
       "    </tr>\n",
       "    <tr>\n",
       "      <td>235</td>\n",
       "      <td>Male</td>\n",
       "      <td>21.0</td>\n",
       "      <td>21.5</td>\n",
       "      <td>Right</td>\n",
       "      <td>R on L</td>\n",
       "      <td>90.0</td>\n",
       "      <td>Right</td>\n",
       "      <td>Some</td>\n",
       "      <td>Never</td>\n",
       "      <td>183.0</td>\n",
       "      <td>Metric</td>\n",
       "      <td>17.167</td>\n",
       "    </tr>\n",
       "    <tr>\n",
       "      <td>236</td>\n",
       "      <td>Female</td>\n",
       "      <td>17.6</td>\n",
       "      <td>17.3</td>\n",
       "      <td>Right</td>\n",
       "      <td>R on L</td>\n",
       "      <td>85.0</td>\n",
       "      <td>Right</td>\n",
       "      <td>Freq</td>\n",
       "      <td>Never</td>\n",
       "      <td>168.5</td>\n",
       "      <td>Metric</td>\n",
       "      <td>17.750</td>\n",
       "    </tr>\n",
       "  </tbody>\n",
       "</table>\n",
       "</div>"
      ],
      "text/plain": [
       "        Sex  Wr.Hnd  NW.Hnd  W.Hnd    Fold  Pulse   Clap  Exer  Smoke  Height  \\\n",
       "234  Female    17.5    16.5  Right  R on L    NaN  Right  Some  Never   170.0   \n",
       "235    Male    21.0    21.5  Right  R on L   90.0  Right  Some  Never   183.0   \n",
       "236  Female    17.6    17.3  Right  R on L   85.0  Right  Freq  Never   168.5   \n",
       "\n",
       "        M.I     Age  \n",
       "234  Metric  18.583  \n",
       "235  Metric  17.167  \n",
       "236  Metric  17.750  "
      ]
     },
     "execution_count": 16,
     "metadata": {},
     "output_type": "execute_result"
    }
   ],
   "source": [
    "survey.tail(3)"
   ]
  },
  {
   "cell_type": "code",
   "execution_count": 17,
   "metadata": {},
   "outputs": [
    {
     "data": {
      "text/plain": [
       "array(['Never', 'Regul', 'Occas', 'Heavy', nan], dtype=object)"
      ]
     },
     "execution_count": 17,
     "metadata": {},
     "output_type": "execute_result"
    }
   ],
   "source": [
    "survey.Smoke.unique()"
   ]
  },
  {
   "cell_type": "code",
   "execution_count": 18,
   "metadata": {},
   "outputs": [
    {
     "data": {
      "text/plain": [
       "array(['Some', 'None', 'Freq'], dtype=object)"
      ]
     },
     "execution_count": 18,
     "metadata": {},
     "output_type": "execute_result"
    }
   ],
   "source": [
    "survey.Exer.unique()"
   ]
  },
  {
   "cell_type": "code",
   "execution_count": 42,
   "metadata": {},
   "outputs": [
    {
     "data": {
      "text/html": [
       "<div>\n",
       "<style scoped>\n",
       "    .dataframe tbody tr th:only-of-type {\n",
       "        vertical-align: middle;\n",
       "    }\n",
       "\n",
       "    .dataframe tbody tr th {\n",
       "        vertical-align: top;\n",
       "    }\n",
       "\n",
       "    .dataframe thead th {\n",
       "        text-align: right;\n",
       "    }\n",
       "</style>\n",
       "<table border=\"1\" class=\"dataframe\">\n",
       "  <thead>\n",
       "    <tr style=\"text-align: right;\">\n",
       "      <th>Exer</th>\n",
       "      <th>Freq</th>\n",
       "      <th>None</th>\n",
       "      <th>Some</th>\n",
       "      <th>All</th>\n",
       "    </tr>\n",
       "    <tr>\n",
       "      <th>Smoke</th>\n",
       "      <th></th>\n",
       "      <th></th>\n",
       "      <th></th>\n",
       "      <th></th>\n",
       "    </tr>\n",
       "  </thead>\n",
       "  <tbody>\n",
       "    <tr>\n",
       "      <td>Heavy</td>\n",
       "      <td>7</td>\n",
       "      <td>1</td>\n",
       "      <td>3</td>\n",
       "      <td>11</td>\n",
       "    </tr>\n",
       "    <tr>\n",
       "      <td>Never</td>\n",
       "      <td>87</td>\n",
       "      <td>18</td>\n",
       "      <td>84</td>\n",
       "      <td>189</td>\n",
       "    </tr>\n",
       "    <tr>\n",
       "      <td>Occas</td>\n",
       "      <td>12</td>\n",
       "      <td>3</td>\n",
       "      <td>4</td>\n",
       "      <td>19</td>\n",
       "    </tr>\n",
       "    <tr>\n",
       "      <td>Regul</td>\n",
       "      <td>9</td>\n",
       "      <td>1</td>\n",
       "      <td>7</td>\n",
       "      <td>17</td>\n",
       "    </tr>\n",
       "    <tr>\n",
       "      <td>All</td>\n",
       "      <td>115</td>\n",
       "      <td>23</td>\n",
       "      <td>98</td>\n",
       "      <td>236</td>\n",
       "    </tr>\n",
       "  </tbody>\n",
       "</table>\n",
       "</div>"
      ],
      "text/plain": [
       "Exer   Freq  None  Some  All\n",
       "Smoke                       \n",
       "Heavy     7     1     3   11\n",
       "Never    87    18    84  189\n",
       "Occas    12     3     4   19\n",
       "Regul     9     1     7   17\n",
       "All     115    23    98  236"
      ]
     },
     "execution_count": 42,
     "metadata": {},
     "output_type": "execute_result"
    }
   ],
   "source": [
    "# 목적: Smoke항목과 Exer항목간 상관성을 검정\n",
    "# 빈도: 특정 변수에 대한 값의 빈도를 재구성\n",
    "tmp = pd.crosstab( survey.Smoke, survey.Exer, margins=True )\n",
    "tmp"
   ]
  },
  {
   "cell_type": "code",
   "execution_count": 43,
   "metadata": {},
   "outputs": [
    {
     "data": {
      "text/html": [
       "<div>\n",
       "<style scoped>\n",
       "    .dataframe tbody tr th:only-of-type {\n",
       "        vertical-align: middle;\n",
       "    }\n",
       "\n",
       "    .dataframe tbody tr th {\n",
       "        vertical-align: top;\n",
       "    }\n",
       "\n",
       "    .dataframe thead th {\n",
       "        text-align: right;\n",
       "    }\n",
       "</style>\n",
       "<table border=\"1\" class=\"dataframe\">\n",
       "  <thead>\n",
       "    <tr style=\"text-align: right;\">\n",
       "      <th>Exer</th>\n",
       "      <th>Freq</th>\n",
       "      <th>None</th>\n",
       "      <th>Some</th>\n",
       "    </tr>\n",
       "    <tr>\n",
       "      <th>Smoke</th>\n",
       "      <th></th>\n",
       "      <th></th>\n",
       "      <th></th>\n",
       "    </tr>\n",
       "  </thead>\n",
       "  <tbody>\n",
       "    <tr>\n",
       "      <td>Heavy</td>\n",
       "      <td>7</td>\n",
       "      <td>1</td>\n",
       "      <td>3</td>\n",
       "    </tr>\n",
       "    <tr>\n",
       "      <td>Never</td>\n",
       "      <td>87</td>\n",
       "      <td>18</td>\n",
       "      <td>84</td>\n",
       "    </tr>\n",
       "    <tr>\n",
       "      <td>Occas</td>\n",
       "      <td>12</td>\n",
       "      <td>3</td>\n",
       "      <td>4</td>\n",
       "    </tr>\n",
       "    <tr>\n",
       "      <td>Regul</td>\n",
       "      <td>9</td>\n",
       "      <td>1</td>\n",
       "      <td>7</td>\n",
       "    </tr>\n",
       "  </tbody>\n",
       "</table>\n",
       "</div>"
      ],
      "text/plain": [
       "Exer   Freq  None  Some\n",
       "Smoke                  \n",
       "Heavy     7     1     3\n",
       "Never    87    18    84\n",
       "Occas    12     3     4\n",
       "Regul     9     1     7"
      ]
     },
     "execution_count": 43,
     "metadata": {},
     "output_type": "execute_result"
    }
   ],
   "source": [
    "src_df=tmp.iloc[:-1,:-1]\n",
    "src_df"
   ]
  },
  {
   "cell_type": "code",
   "execution_count": 46,
   "metadata": {},
   "outputs": [],
   "source": [
    "# p값 획득\n",
    "p_value = stats.chi2_contingency( observed=src_df )\n",
    "p_value=round(p_value[1],2)"
   ]
  },
  {
   "cell_type": "code",
   "execution_count": 48,
   "metadata": {},
   "outputs": [
    {
     "name": "stdout",
     "output_type": "stream",
     "text": [
      "두 변수는 서로 독립적이다\n"
     ]
    }
   ],
   "source": [
    "# 판단\n",
    "if p_value < 0.05:\n",
    "    print('강한 상관 관계')\n",
    "else:\n",
    "    print('두 변수는 서로 독립적이다')"
   ]
  },
  {
   "cell_type": "markdown",
   "metadata": {},
   "source": [
    "## 가설검정\n",
    "\n",
    "- 표본으로 통계적 테스틀 수행할 때, 모집단에 대한 추론을 만드는 과정\n",
    "\n",
    "1. 귀무가설\n",
    "   - 처음부터 버릴 것으로 예상하고 만드는 가설\n",
    "   - 통계학적으로 증거를 통해 증명하려는 가설\n",
    "2. 대립가설\n",
    "   - 검정을 직접 수행하기가 어려움\n",
    "   - 귀무가설을 기각함으로써 받아들여지는 결론\n",
    "\n",
    "- p값\n",
    "  - 귀무가설이 옳다는 전제하에, 표본에서 실제 관측된 통계값과 같거나 더 극단적인 값이 관측될 확률\n",
    "  - p값이 작을수록 귀무가설에 반하는 강력한 증거\n",
    "  - p값은 귀무가설에 반하는 증거를 측정하는 수치(확률)\n",
    "- 유의 수준\n",
    "  - 판단의 기준이 되는 임계값(치)\n",
    "  - 유의 수준을 a, 신뢰수준은 95%라고 할 때 \n",
    "    - 1 - 0.95 => 0.05 = a가 유의 수준 값\n",
    "- 예\n",
    "  - 과자 공장 A사\n",
    "  - 주장: 제품 B의 중량 1000g 이상이다\n",
    "  - 증명\n",
    "    1. 표본: 과자 30개 무작위로 추출, 무게를 측정, 평균 냄\n",
    "    2. 측정치: 990g\n",
    "    3. 표준편차: 분산(평균과 관측값의 차-> 제곱-> 평균)의 제곱근이 12.5g\n",
    "    4. 유의 수준 5%: 0.05로 설정\n",
    "    5. A사의 주장을 기각할 수 있는가?\n",
    "  - 귀무가설: 제품 B의 중량은 1000g보다 크거나 같다\n",
    "  - 대립가설: 제품 B의 중량은 1000g보다 작다"
   ]
  },
  {
   "cell_type": "code",
   "execution_count": 81,
   "metadata": {},
   "outputs": [],
   "source": [
    "xbar = 990 #표본의 평균\n",
    "mu = 1000 #귀무가설에 의한 임계값\n",
    "s = 12.5 #표준편차\n",
    "n = 30 #표본수"
   ]
  },
  {
   "cell_type": "code",
   "execution_count": 82,
   "metadata": {},
   "outputs": [
    {
     "data": {
      "text/plain": [
       "-4.381780460041329"
      ]
     },
     "execution_count": 82,
     "metadata": {},
     "output_type": "execute_result"
    }
   ],
   "source": [
    "t_sample = (xbar-mu) / (s / np.sqrt(float(n)))\n",
    "t_sample"
   ]
  },
  {
   "cell_type": "code",
   "execution_count": 83,
   "metadata": {},
   "outputs": [
    {
     "data": {
      "text/plain": [
       "7.035025729010886e-05"
      ]
     },
     "execution_count": 83,
     "metadata": {},
     "output_type": "execute_result"
    }
   ],
   "source": [
    "p_value = stats.t.sf( np.abs(t_sample), n-1 )\n",
    "p_value"
   ]
  },
  {
   "cell_type": "code",
   "execution_count": 84,
   "metadata": {},
   "outputs": [
    {
     "data": {
      "text/plain": [
       "-1.6991270265334977"
      ]
     },
     "execution_count": 84,
     "metadata": {},
     "output_type": "execute_result"
    }
   ],
   "source": [
    "# 유의수준(판단의 임계값) -> t-분포임계값 구할 수 있음\n",
    "alpha = 0.05\n",
    "\n",
    "# t-분포임계값\n",
    "t_alpha = stats.t.ppf( alpha, n-1 )\n",
    "t_alpha"
   ]
  },
  {
   "cell_type": "code",
   "execution_count": 85,
   "metadata": {},
   "outputs": [
    {
     "name": "stdout",
     "output_type": "stream",
     "text": [
      "귀무가설을 기각-> 제품B는 1000g 미만\n"
     ]
    }
   ],
   "source": [
    "if p_value < alpha:\n",
    "    print('귀무가설을 기각-> 제품B는 1000g 미만')\n",
    "else:\n",
    "    print('귀무가설을 채택')"
   ]
  },
  {
   "cell_type": "markdown",
   "metadata": {},
   "source": [
    "## 아노바 분산검정\n",
    "\n",
    "- 둘 이상의 모집단의 평균이 서로 동일한지 테스트\n",
    "- 귀무가설: 모든 모집단의 평균은 동일\n",
    "- 대립가설: 최소 하나의 모집단의 평균은 다름\n",
    "- 사례\n",
    "  - 화학회사에서 모든 농작물에 적용 가능한 만능 비료 개발\n",
    "  - 수확량이 비슷한지 여러 작물에 각각 적용한 데이터 획득"
   ]
  },
  {
   "cell_type": "code",
   "execution_count": 86,
   "metadata": {},
   "outputs": [
    {
     "data": {
      "text/plain": [
       "(6, 3)"
      ]
     },
     "execution_count": 86,
     "metadata": {},
     "output_type": "execute_result"
    }
   ],
   "source": [
    "df = pd.read_csv('../table/fetilizers.csv')\n",
    "df.shape"
   ]
  },
  {
   "cell_type": "code",
   "execution_count": 87,
   "metadata": {},
   "outputs": [
    {
     "data": {
      "text/html": [
       "<div>\n",
       "<style scoped>\n",
       "    .dataframe tbody tr th:only-of-type {\n",
       "        vertical-align: middle;\n",
       "    }\n",
       "\n",
       "    .dataframe tbody tr th {\n",
       "        vertical-align: top;\n",
       "    }\n",
       "\n",
       "    .dataframe thead th {\n",
       "        text-align: right;\n",
       "    }\n",
       "</style>\n",
       "<table border=\"1\" class=\"dataframe\">\n",
       "  <thead>\n",
       "    <tr style=\"text-align: right;\">\n",
       "      <th></th>\n",
       "      <th>fertilizer1</th>\n",
       "      <th>fertilizer2</th>\n",
       "      <th>fertilizer3</th>\n",
       "    </tr>\n",
       "  </thead>\n",
       "  <tbody>\n",
       "    <tr>\n",
       "      <td>0</td>\n",
       "      <td>62</td>\n",
       "      <td>54</td>\n",
       "      <td>48</td>\n",
       "    </tr>\n",
       "    <tr>\n",
       "      <td>1</td>\n",
       "      <td>62</td>\n",
       "      <td>56</td>\n",
       "      <td>62</td>\n",
       "    </tr>\n",
       "    <tr>\n",
       "      <td>2</td>\n",
       "      <td>90</td>\n",
       "      <td>58</td>\n",
       "      <td>92</td>\n",
       "    </tr>\n",
       "    <tr>\n",
       "      <td>3</td>\n",
       "      <td>42</td>\n",
       "      <td>36</td>\n",
       "      <td>96</td>\n",
       "    </tr>\n",
       "    <tr>\n",
       "      <td>4</td>\n",
       "      <td>84</td>\n",
       "      <td>72</td>\n",
       "      <td>92</td>\n",
       "    </tr>\n",
       "    <tr>\n",
       "      <td>5</td>\n",
       "      <td>64</td>\n",
       "      <td>34</td>\n",
       "      <td>80</td>\n",
       "    </tr>\n",
       "  </tbody>\n",
       "</table>\n",
       "</div>"
      ],
      "text/plain": [
       "   fertilizer1  fertilizer2  fertilizer3\n",
       "0           62           54           48\n",
       "1           62           56           62\n",
       "2           90           58           92\n",
       "3           42           36           96\n",
       "4           84           72           92\n",
       "5           64           34           80"
      ]
     },
     "execution_count": 87,
     "metadata": {},
     "output_type": "execute_result"
    }
   ],
   "source": [
    "df"
   ]
  },
  {
   "cell_type": "code",
   "execution_count": 88,
   "metadata": {},
   "outputs": [],
   "source": [
    "# 아노바 분산\n",
    "anova = stats.f_oneway( df[df.columns[0]], df[df.columns[1]], df[df.columns[2]] )"
   ]
  },
  {
   "cell_type": "code",
   "execution_count": 89,
   "metadata": {},
   "outputs": [],
   "source": [
    "p_value = round(anova[1],2)"
   ]
  },
  {
   "cell_type": "code",
   "execution_count": 90,
   "metadata": {},
   "outputs": [
    {
     "name": "stdout",
     "output_type": "stream",
     "text": [
      "귀무가설 기각 0.0006359014390156861 만큼만 향상시키면 성립\n"
     ]
    }
   ],
   "source": [
    "if p_value < 0.05:\n",
    "    print('귀무가설 채택')\n",
    "else:\n",
    "    print('귀무가설 기각', anova[1]-0.05, '만큼만 향상시키면 성립')"
   ]
  }
 ],
 "metadata": {
  "kernelspec": {
   "display_name": "Python 3",
   "language": "python",
   "name": "python3"
  },
  "language_info": {
   "codemirror_mode": {
    "name": "ipython",
    "version": 3
   },
   "file_extension": ".py",
   "mimetype": "text/x-python",
   "name": "python",
   "nbconvert_exporter": "python",
   "pygments_lexer": "ipython3",
   "version": "3.7.4"
  }
 },
 "nbformat": 4,
 "nbformat_minor": 4
}
