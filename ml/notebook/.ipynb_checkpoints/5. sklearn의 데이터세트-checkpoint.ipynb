{
 "cells": [
  {
   "cell_type": "markdown",
   "metadata": {},
   "source": [
    "### sklearn.datasets\n",
    "\n",
    "- 모형 실습을 위해서 예제 데이터 세트를 제공\n",
    "- 3가지 분류\n",
    "    - load  계열 : 이미 저장되어 있다 -> 용량이 작다\n",
    "    - fetch 계열 : 인터넷에서 캐쉬되어 다운로드된다 -> 용량이 크다\n",
    "    - make  계열 : 가상의 데이터 셋을 생성 -> 더미 데이터 생성"
   ]
  },
  {
   "cell_type": "code",
   "execution_count": 3,
   "metadata": {},
   "outputs": [],
   "source": [
    "import sklearn.datasets as mls"
   ]
  },
  {
   "cell_type": "markdown",
   "metadata": {},
   "source": [
    "#### load()\n",
    "\n",
    "- 작은 데이터부터, 큰것 까지 다양\n",
    "- 작은것등은 패키지에 이미 배포, 큰것은 요청시 다운로드해서 제공\n",
    "- 종류\n",
    "    - load_boston : 보스턴 집값 => 회귀 분석\n",
    "    - load_breast_cancer : 유방암 진단 자료 => 분류 분석\n",
    "    - load_diabetes : 당뇨병 자료 => 회귀 분석\n",
    "    - load_digits : 숫자 필기 이미지, MNIST계열 => 분류 분석 \n",
    "    - load_files\n",
    "    - load_iris : 붓곷 => 분류 분석 \n",
    "    - load_linnerud\n",
    "    - load_sample_image\n",
    "    - load_sample_images\n",
    "    - load_svmlight_file\n",
    "    - load_svmlight_files\n",
    "    - load_wine : 와인 등급 => 분류 분석"
   ]
  },
  {
   "cell_type": "markdown",
   "metadata": {},
   "source": [
    "#### fetch 계열\n",
    "\n",
    "- 데이터가 커서 처음에 설치가 않된다\n",
    "- 요청을 하면 인터넷을 통해서 다운받아서 제공\n",
    "- scikit_learn_data 밑으로 저장\n",
    "- 종류\n",
    "    - 'fetch_20newsgroups' : 뉴스 그룹 텍스트 자료\n",
    "    - 'fetch_20newsgroups_vectorized'\n",
    "    - 'fetch_california_housing'\n",
    "    - 'fetch_covtype' : 토지 조사 자료 : 회귀 분석\n",
    "    - 'fetch_kddcup99'\n",
    "    - 'fetch_lfw_pairs' : 얼굴 이미지 자료\n",
    "    - 'fetch_lfw_people' : 얼굴 이미지 자료\n",
    "    - 'fetch_mldata' : ML 웹사이트 데이터\n",
    "    - 'fetch_olivetti_faces' : 얼굴 이미지 자료\n",
    "    - 'fetch_openml'\n",
    "    - 'fetch_rcv1' : 로이터 뉴스 \n",
    "    - 'fetch_species_distributions'"
   ]
  },
  {
   "cell_type": "markdown",
   "metadata": {},
   "source": [
    "#### make 계열\n",
    "\n",
    "- 모형 실험을 위해서 가상으로 만드는 데이터 세트\n",
    "- 종류\n",
    "    - make_regression : 회귀 분석용 데이터 세트\n",
    "    - make_classification : 분류용 데이터 세트\n",
    "    - make_blobs : 클러스터링용 가상 데이터 세트\n",
    "    \n",
    "    - 'make_biclusters', 'make_blobs', 'make_checkerboard', 'make_circles', 'make_classification', 'make_friedman1', 'make_friedman2', 'make_friedman3', 'make_gaussian_quantiles', 'make_hastie_10_2', 'make_low_rank_matrix', 'make_moons', 'make_multilabel_classification', 'make_regression', 'make_s_curve', 'make_sparse_coded_signal', 'make_sparse_spd_matrix', 'make_sparse_uncorrelated', 'make_spd_matrix', 'make_swiss_roll'"
   ]
  },
  {
   "cell_type": "code",
   "execution_count": 4,
   "metadata": {},
   "outputs": [
    {
     "name": "stdout",
     "output_type": "stream",
     "text": [
      "['__all__', '__builtins__', '__cached__', '__doc__', '__file__', '__loader__', '__name__', '__package__', '__path__', '__spec__', '_base', '_california_housing', '_covtype', '_kddcup99', '_lfw', '_olivetti_faces', '_openml', '_rcv1', '_samples_generator', '_species_distributions', '_svmlight_format', '_svmlight_format_fast', '_twenty_newsgroups', 'clear_data_home', 'dump_svmlight_file', 'fetch_20newsgroups', 'fetch_20newsgroups_vectorized', 'fetch_california_housing', 'fetch_covtype', 'fetch_kddcup99', 'fetch_lfw_pairs', 'fetch_lfw_people', 'fetch_olivetti_faces', 'fetch_openml', 'fetch_rcv1', 'fetch_species_distributions', 'get_data_home', 'load_boston', 'load_breast_cancer', 'load_diabetes', 'load_digits', 'load_files', 'load_iris', 'load_linnerud', 'load_sample_image', 'load_sample_images', 'load_svmlight_file', 'load_svmlight_files', 'load_wine', 'make_biclusters', 'make_blobs', 'make_checkerboard', 'make_circles', 'make_classification', 'make_friedman1', 'make_friedman2', 'make_friedman3', 'make_gaussian_quantiles', 'make_hastie_10_2', 'make_low_rank_matrix', 'make_moons', 'make_multilabel_classification', 'make_regression', 'make_s_curve', 'make_sparse_coded_signal', 'make_sparse_spd_matrix', 'make_sparse_uncorrelated', 'make_spd_matrix', 'make_swiss_roll']\n"
     ]
    }
   ],
   "source": [
    "print( dir(mls) ) "
   ]
  },
  {
   "cell_type": "code",
   "execution_count": 5,
   "metadata": {},
   "outputs": [
    {
     "data": {
      "text/plain": [
       "(sklearn.utils.Bunch,\n",
       " ['DESCR', 'data', 'feature_names', 'filename', 'target', 'target_names'])"
      ]
     },
     "execution_count": 5,
     "metadata": {},
     "output_type": "execute_result"
    }
   ],
   "source": [
    "iris = mls.load_iris()\n",
    "type(iris), dir(iris)"
   ]
  },
  {
   "cell_type": "markdown",
   "metadata": {},
   "source": [
    "### sklearn.utils.Bunch\n",
    "\n",
    "- sklearn에서 제공되는 데이터는 대부분 이 형식을 따름\n",
    "- 변수\n",
    "    - 'DESCR': 데이터에 대한 총괄적 설명\n",
    "    - 'data': (필수) 독립 변수의 ndarray\n",
    "    - 'target': (필수) 종속 변수의 ndarray\n",
    "    - 'feature_names': (옵션) 독립 변수의 이름(컬럼)\n",
    "    - 'target_names': (옵션) 종속 변수의 이름 리스트\n",
    "    - 'filename' "
   ]
  }
 ],
 "metadata": {
  "kernelspec": {
   "display_name": "Python 3",
   "language": "python",
   "name": "python3"
  },
  "language_info": {
   "codemirror_mode": {
    "name": "ipython",
    "version": 3
   },
   "file_extension": ".py",
   "mimetype": "text/x-python",
   "name": "python",
   "nbconvert_exporter": "python",
   "pygments_lexer": "ipython3",
   "version": "3.7.4"
  }
 },
 "nbformat": 4,
 "nbformat_minor": 4
}
