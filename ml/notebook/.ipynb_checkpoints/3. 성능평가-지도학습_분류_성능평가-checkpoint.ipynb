{
 "cells": [
  {
   "cell_type": "markdown",
   "metadata": {},
   "source": [
    "## 성능평가\n",
    "\n",
    "- 평가 항목 방식 케이스\n",
    "    - 지도학습의 분류\n",
    "        - 혼동행렬(정확도, f1-score, 정밀도, 재현율), AUC, ROC\n",
    "    - 지도학습의 회귀\n",
    "        - 손실\n",
    "    - 비지도학습\n",
    "    - 강화학습"
   ]
  },
  {
   "cell_type": "markdown",
   "metadata": {},
   "source": [
    "### 머신러닝 > 지도학습 > 분류 > 성능평가 지표\n",
    "\n",
    "- 통계학의 혼동행렬이라는 항목을 이용하여 평가\n",
    "- 개요\n",
    "    - 예측값이 실제 관측값을 얼마나 정확하게 예측했는가?\n",
    "    - 이 사항을 보여주는 행렬\n",
    "    - 예\n",
    "        - 암 여부를 예측했는데 실제로도 악성인지 예측하는 예\n",
    "        - 실제는 병이 있었는데 있다고 예측/없다고 예측\n",
    "        - 실제는 병이 없었는데 있다고 예측/없다고 예측"
   ]
  },
  {
   "cell_type": "markdown",
   "metadata": {},
   "source": [
    "|실제|예측 Positive|예측 Negative|\n",
    "|:--:|:--:|:--:|\n",
    "|Positive|TP|FN|\n",
    "|Negative|FP|TN|"
   ]
  },
  {
   "cell_type": "markdown",
   "metadata": {},
   "source": [
    "- 참긍정: TP\n",
    "    - 병이 있다고 예측, 실제로 병이 있음\n",
    "- 참부정: TN\n",
    "    - 병이 없다고 예측, 실제로 병이 없음\n",
    "- 거짓긍정: FP(1종 오류)\n",
    "    - 병이 있다고 예측, 실제로 병이 없음\n",
    "- 거짓부정: FN(2종 오류)\n",
    "    - 병이 없다고 예측, 실제로 병이 있음"
   ]
  },
  {
   "cell_type": "markdown",
   "metadata": {},
   "source": [
    "- 정밀도(precision)\n",
    "    - 병이 있다고 예측을 했는데, 실제로 병이 있는 비율. 정답율\n",
    "    - P = TP / (TP + FP)\n",
    "- 재현율(recall)\n",
    "    - 실제로 병이 있는 전체 데이터 중에 참긍정 비율\n",
    "    - R = TP / (TP + FN)\n",
    "- F1 점수\n",
    "    - 정밀도와 재현율의 조화평균(Harmonic mean)\n",
    "    - F1 = 2 / (1/P + 1/R)\n",
    "- 특이성\n",
    "    - 실제 병이 없는 전체 중 참부정(TN)의 비율\n",
    "    - TN / (TN + FP)\n",
    "- 곡선하 면적(ROC): Area under Curve ROC => ROC 곡선\n",
    "    - 참긍정률과 거짓부정률 사이의 관계 표현\n",
    "    - 1 - 특이성\n",
    "    - AUC: ROC의 상세값(수치)"
   ]
  },
  {
   "cell_type": "markdown",
   "metadata": {},
   "source": [
    "#### 실제 데이터를 이용하여 성능평가를 수행\n",
    "\n",
    "- 데이터: 아이리스 활용"
   ]
  },
  {
   "cell_type": "code",
   "execution_count": 3,
   "metadata": {},
   "outputs": [],
   "source": [
    "from matplotlib import pyplot as plt\n",
    "from sklearn.datasets import load_iris\n",
    "import pandas as pd"
   ]
  },
  {
   "cell_type": "code",
   "execution_count": 10,
   "metadata": {},
   "outputs": [
    {
     "data": {
      "text/plain": [
       "(array([[5.1, 3.5, 1.4, 0.2]]),\n",
       " ['sepal length (cm)',\n",
       "  'sepal width (cm)',\n",
       "  'petal length (cm)',\n",
       "  'petal width (cm)'],\n",
       " array(['setosa', 'versicolor', 'virginica'], dtype='<U10'),\n",
       " array([2, 2, 2]))"
      ]
     },
     "execution_count": 10,
     "metadata": {},
     "output_type": "execute_result"
    }
   ],
   "source": [
    "ds = load_iris()\n",
    "ds.data[:1], ds.feature_names, ds.target_names, ds.target[-3:]"
   ]
  },
  {
   "cell_type": "code",
   "execution_count": 15,
   "metadata": {},
   "outputs": [
    {
     "ename": "AttributeError",
     "evalue": "'numpy.ndarray' object has no attribute 'get_value'",
     "output_type": "error",
     "traceback": [
      "\u001b[1;31m---------------------------------------------------------------------------\u001b[0m",
      "\u001b[1;31mAttributeError\u001b[0m                            Traceback (most recent call last)",
      "\u001b[1;32m<ipython-input-15-f8f176281bed>\u001b[0m in \u001b[0;36m<module>\u001b[1;34m\u001b[0m\n\u001b[0;32m     10\u001b[0m         \u001b[0mdf\u001b[0m\u001b[1;33m.\u001b[0m\u001b[0mspecies\u001b[0m \u001b[1;33m=\u001b[0m \u001b[1;34m'virginica'\u001b[0m\u001b[1;33m\u001b[0m\u001b[1;33m\u001b[0m\u001b[0m\n\u001b[0;32m     11\u001b[0m     \u001b[1;32mreturn\u001b[0m \u001b[0mdf\u001b[0m\u001b[1;33m\u001b[0m\u001b[1;33m\u001b[0m\u001b[0m\n\u001b[1;32m---> 12\u001b[1;33m \u001b[0mdf\u001b[0m \u001b[1;33m=\u001b[0m \u001b[0mattach_iris\u001b[0m\u001b[1;33m(\u001b[0m\u001b[1;33m)\u001b[0m\u001b[1;33m\u001b[0m\u001b[1;33m\u001b[0m\u001b[0m\n\u001b[0m\u001b[0;32m     13\u001b[0m \u001b[0mdf\u001b[0m\u001b[1;33m.\u001b[0m\u001b[0mhead\u001b[0m\u001b[1;33m(\u001b[0m\u001b[1;36m2\u001b[0m\u001b[1;33m)\u001b[0m\u001b[1;33m\u001b[0m\u001b[1;33m\u001b[0m\u001b[0m\n",
      "\u001b[1;32m<ipython-input-15-f8f176281bed>\u001b[0m in \u001b[0;36mattach_iris\u001b[1;34m()\u001b[0m\n\u001b[0;32m      3\u001b[0m     \u001b[0mdf\u001b[0m \u001b[1;33m=\u001b[0m \u001b[0mpd\u001b[0m\u001b[1;33m.\u001b[0m\u001b[0mDataFrame\u001b[0m\u001b[1;33m(\u001b[0m\u001b[0mds\u001b[0m\u001b[1;33m.\u001b[0m\u001b[0mdata\u001b[0m\u001b[1;33m,\u001b[0m \u001b[0mcolumns\u001b[0m\u001b[1;33m=\u001b[0m\u001b[0mds\u001b[0m\u001b[1;33m.\u001b[0m\u001b[0mfeature_names\u001b[0m\u001b[1;33m)\u001b[0m\u001b[1;33m\u001b[0m\u001b[1;33m\u001b[0m\u001b[0m\n\u001b[0;32m      4\u001b[0m     \u001b[1;31m# species라는 컬럼 추가 => 값은 setosa, versicolor, virginica 중 하나로 설정\u001b[0m\u001b[1;33m\u001b[0m\u001b[1;33m\u001b[0m\u001b[1;33m\u001b[0m\u001b[0m\n\u001b[1;32m----> 5\u001b[1;33m     \u001b[1;32mif\u001b[0m \u001b[0mds\u001b[0m\u001b[1;33m.\u001b[0m\u001b[0mtarget\u001b[0m\u001b[1;33m.\u001b[0m\u001b[0mget_value\u001b[0m \u001b[1;33m==\u001b[0m \u001b[1;36m0\u001b[0m\u001b[1;33m:\u001b[0m\u001b[1;33m\u001b[0m\u001b[1;33m\u001b[0m\u001b[0m\n\u001b[0m\u001b[0;32m      6\u001b[0m         \u001b[0mdf\u001b[0m\u001b[1;33m.\u001b[0m\u001b[0mspecies\u001b[0m \u001b[1;33m=\u001b[0m \u001b[1;34m'setosa'\u001b[0m\u001b[1;33m\u001b[0m\u001b[1;33m\u001b[0m\u001b[0m\n\u001b[0;32m      7\u001b[0m     \u001b[1;32melif\u001b[0m \u001b[0mds\u001b[0m\u001b[1;33m.\u001b[0m\u001b[0mtarget\u001b[0m\u001b[1;33m.\u001b[0m\u001b[0mvalues\u001b[0m \u001b[1;33m==\u001b[0m \u001b[1;36m1\u001b[0m\u001b[1;33m:\u001b[0m\u001b[1;33m\u001b[0m\u001b[1;33m\u001b[0m\u001b[0m\n",
      "\u001b[1;31mAttributeError\u001b[0m: 'numpy.ndarray' object has no attribute 'get_value'"
     ]
    }
   ],
   "source": [
    "def attach_iris():\n",
    "    ds = load_iris()\n",
    "    df = pd.DataFrame(ds.data, columns=ds.feature_names)\n",
    "    # species라는 컬럼 추가 => 값은 setosa, versicolor, virginica 중 하나로 설정\n",
    "    if ds.target.get_value == 0:\n",
    "        df.species = 'setosa'\n",
    "    elif ds.target.values == 1: \n",
    "        df.species = 'versicolor'\n",
    "    elif ds.target.values == 2: \n",
    "        df.species = 'virginica'\n",
    "    return df\n",
    "df = attach_iris()\n",
    "df.head(2)"
   ]
  },
  {
   "cell_type": "code",
   "execution_count": null,
   "metadata": {},
   "outputs": [],
   "source": []
  }
 ],
 "metadata": {
  "kernelspec": {
   "display_name": "Python 3",
   "language": "python",
   "name": "python3"
  },
  "language_info": {
   "codemirror_mode": {
    "name": "ipython",
    "version": 3
   },
   "file_extension": ".py",
   "mimetype": "text/x-python",
   "name": "python",
   "nbconvert_exporter": "python",
   "pygments_lexer": "ipython3",
   "version": "3.7.4"
  }
 },
 "nbformat": 4,
 "nbformat_minor": 2
}
