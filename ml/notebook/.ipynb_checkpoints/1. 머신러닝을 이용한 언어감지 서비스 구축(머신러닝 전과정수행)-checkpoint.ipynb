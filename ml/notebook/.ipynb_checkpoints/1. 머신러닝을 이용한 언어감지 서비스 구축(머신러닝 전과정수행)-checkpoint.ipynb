{
 "cells": [
  {
   "cell_type": "code",
   "execution_count": 1,
   "metadata": {},
   "outputs": [],
   "source": [
    "# 모듈 가져오기\n",
    "import urllib.request as req\n",
    "from bs4 import BeautifulSoup"
   ]
  },
  {
   "cell_type": "code",
   "execution_count": 2,
   "metadata": {},
   "outputs": [],
   "source": [
    "# 데이터 획득 사이트 규격화\n",
    "na_code = 'en'\n",
    "keyword = 'Bong_Joon-ho'\n",
    "target_site = f'https://{na_code}.wikipedia.org/wiki/{keyword}'"
   ]
  },
  {
   "cell_type": "code",
   "execution_count": 3,
   "metadata": {},
   "outputs": [
    {
     "data": {
      "text/plain": [
       "'https://en.wikipedia.org/wiki/Bong_Joon-ho'"
      ]
     },
     "execution_count": 3,
     "metadata": {},
     "output_type": "execute_result"
    }
   ],
   "source": [
    "target_site"
   ]
  },
  {
   "cell_type": "code",
   "execution_count": 4,
   "metadata": {},
   "outputs": [],
   "source": [
    "# 요청 및 SOUP 생성(DOM 트리)\n",
    "# html5lib : 대량의 html 파싱을 위해 안정성 고려\n",
    "soup = BeautifulSoup( req.urlopen(target_site), 'html5lib')"
   ]
  },
  {
   "cell_type": "code",
   "execution_count": 5,
   "metadata": {},
   "outputs": [],
   "source": [
    "# 데이터 추출 \n",
    "# css selector : #mw-content-text p\n",
    "texts =[ p.text for p in soup.select('#mw-content-text p') ]"
   ]
  },
  {
   "cell_type": "code",
   "execution_count": 6,
   "metadata": {},
   "outputs": [
    {
     "data": {
      "text/plain": [
       "(13266,\n",
       " '\\n Bong Joon-ho (Korean:\\xa0봉준호, Korean pronunciation:\\xa0[poːŋ tɕuːnho → poːŋdʑunɦo]; born September 14, 1')"
      ]
     },
     "execution_count": 6,
     "metadata": {},
     "output_type": "execute_result"
    }
   ],
   "source": [
    "text=' '.join(texts)\n",
    "len(text), text[:100]"
   ]
  },
  {
   "cell_type": "code",
   "execution_count": 20,
   "metadata": {},
   "outputs": [],
   "source": [
    "import re\n",
    "p = re.compile('[^a-zA-Z]')\n",
    "tmp=p.sub('',text).lower()"
   ]
  },
  {
   "cell_type": "code",
   "execution_count": 8,
   "metadata": {},
   "outputs": [
    {
     "data": {
      "text/plain": [
       "(20, list, ['../data/train\\\\en-1.txt', '../data/train\\\\en-2.txt'])"
      ]
     },
     "execution_count": 8,
     "metadata": {},
     "output_type": "execute_result"
    }
   ],
   "source": [
    "# 파일 목록\n",
    "import os, glob\n",
    "file_list = glob.glob('../data/train/*.txt')\n",
    "len(file_list), type(file_list), file_list[:2]"
   ]
  },
  {
   "cell_type": "code",
   "execution_count": 9,
   "metadata": {},
   "outputs": [
    {
     "data": {
      "text/plain": [
       "'en-1.txt'"
      ]
     },
     "execution_count": 9,
     "metadata": {},
     "output_type": "execute_result"
    }
   ],
   "source": [
    "# 파일을 읽어서 알파벳 빈도 계산, 어떤 언어인지 데이터화\n",
    "# 1. 파일경로 획득\n",
    "pathName = file_list[0]\n",
    "# 2. 파일명 획득\n",
    "fName = os.path.basename(pathName)\n",
    "fName"
   ]
  },
  {
   "cell_type": "code",
   "execution_count": 16,
   "metadata": {},
   "outputs": [
    {
     "data": {
      "text/plain": [
       "'en'"
      ]
     },
     "execution_count": 16,
     "metadata": {},
     "output_type": "execute_result"
    }
   ],
   "source": [
    "# 3. 파일명에 정답(레이블)이 있음. 확장성을 고려해 정규식으로 추출\n",
    "p2 = re.compile('^[a-z]{2}')\n",
    "if p2.match(fName):\n",
    "    lang = p2.match(fName).group()\n",
    "lang"
   ]
  },
  {
   "cell_type": "code",
   "execution_count": 14,
   "metadata": {},
   "outputs": [],
   "source": [
    "# 4. 알파벳 빈도 계산\n",
    "# 4-1 파일을 읽기\n",
    "\n",
    "f = open(pathName,'r', encoding='utf-8')\n",
    "data = f.read()"
   ]
  },
  {
   "cell_type": "code",
   "execution_count": 21,
   "metadata": {},
   "outputs": [],
   "source": [
    "# 4-2 알파벳만 남겨서 소문자로 처리\n",
    "data = p.sub('',data).lower()"
   ]
  },
  {
   "cell_type": "code",
   "execution_count": 22,
   "metadata": {},
   "outputs": [],
   "source": [
    "# 4-3 알파벳별로 카운트 => 효율적인 로직 필요\n",
    "wordcount = dict()\n",
    "for j in data : \n",
    "    wordcount[j] = wordcount.get(j,0)+1"
   ]
  },
  {
   "cell_type": "code",
   "execution_count": 23,
   "metadata": {},
   "outputs": [
    {
     "data": {
      "text/plain": [
       "{'t': 370,\n",
       " 'h': 201,\n",
       " 'e': 484,\n",
       " 'm': 121,\n",
       " 'a': 349,\n",
       " 'i': 340,\n",
       " 'n': 356,\n",
       " 'r': 357,\n",
       " 'y': 92,\n",
       " 'f': 72,\n",
       " 'o': 412,\n",
       " 'd': 212,\n",
       " 'u': 119,\n",
       " 's': 282,\n",
       " 'b': 59,\n",
       " 'l': 247,\n",
       " 'g': 88,\n",
       " 'c': 210,\n",
       " 'v': 45,\n",
       " 'p': 76,\n",
       " 'j': 8,\n",
       " 'w': 65,\n",
       " 'k': 25,\n",
       " 'x': 3,\n",
       " 'z': 2}"
      ]
     },
     "execution_count": 23,
     "metadata": {},
     "output_type": "execute_result"
    }
   ],
   "source": [
    "wordcount"
   ]
  },
  {
   "cell_type": "code",
   "execution_count": 24,
   "metadata": {},
   "outputs": [],
   "source": [
    "f.close()"
   ]
  },
  {
   "cell_type": "code",
   "execution_count": null,
   "metadata": {},
   "outputs": [],
   "source": []
  }
 ],
 "metadata": {
  "kernelspec": {
   "display_name": "Python 3",
   "language": "python",
   "name": "python3"
  },
  "language_info": {
   "codemirror_mode": {
    "name": "ipython",
    "version": 3
   },
   "file_extension": ".py",
   "mimetype": "text/x-python",
   "name": "python",
   "nbconvert_exporter": "python",
   "pygments_lexer": "ipython3",
   "version": "3.7.4"
  }
 },
 "nbformat": 4,
 "nbformat_minor": 4
}
