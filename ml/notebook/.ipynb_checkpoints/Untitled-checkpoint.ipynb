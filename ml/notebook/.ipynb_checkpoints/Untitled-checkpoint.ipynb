{
 "cells": [
  {
   "cell_type": "code",
   "execution_count": null,
   "metadata": {},
   "outputs": [],
   "source": [
    "import struct\n",
    "from tqdm import tqdm_notebook\n",
    "from sklearn import svm, model_selection, metrics\n",
    "from sklearn.model_selection import GridSearchCV\n",
    "from sklearn.preprocessing import StandardScaler, MinMaxScaler"
   ]
  },
  {
   "cell_type": "code",
   "execution_count": 2,
   "metadata": {},
   "outputs": [
    {
     "data": {
      "application/vnd.jupyter.widget-view+json": {
       "model_id": "0463f265d07f4dbb920935e105f5416f",
       "version_major": 2,
       "version_minor": 0
      },
      "text/plain": [
       "HBox(children=(IntProgress(value=0, max=10000), HTML(value='')))"
      ]
     },
     "metadata": {},
     "output_type": "display_data"
    },
    {
     "name": "stdout",
     "output_type": "stream",
     "text": [
      "\n"
     ]
    },
    {
     "data": {
      "application/vnd.jupyter.widget-view+json": {
       "model_id": "58b261fc73a3489b980f65b5c2280b4e",
       "version_major": 2,
       "version_minor": 0
      },
      "text/plain": [
       "HBox(children=(IntProgress(value=0, max=60000), HTML(value='')))"
      ]
     },
     "metadata": {},
     "output_type": "display_data"
    }
   ],
   "source": [
    "def decoding_mnist_rawData(dataStyle='train', maxCount=0):\n",
    "    label_f = open(f'../data/mnist/{dataStyle}-labels-idx1-ubyte','rb')\n",
    "    image_f = open(f'../data/mnist/{dataStyle}-images-idx3-ubyte','rb')\n",
    "    csv_f = open(f'../data/mnist/{dataStyle}.csv', 'w', encoding='utf-8')\n",
    "    label_magic_number, label_count = struct.unpack('>II',label_f.read(4+4))\n",
    "    image_magic_number, image_count, row, col = struct.unpack('>IIII',image_f.read(4+4+4+4))\n",
    "\n",
    "    pixels = row * col\n",
    "\n",
    "    for idx in tqdm_notebook(range(image_count)):\n",
    "        if idx >= maxCount: break\n",
    "        label_tmp = struct.unpack('B', label_f.read(1))\n",
    "        label = label_tmp[0]\n",
    "\n",
    "        binaryData = image_f.read(pixels)\n",
    "        strData = list(map(lambda x : str(x), binaryData))\n",
    "        csv_f.write(str(label)+',')\n",
    "        csv_f.write(','.join(strData)+'\\n')\n",
    "\n",
    "        with open(f'../data/mnist/{label}.pgm','w',encoding='utf-8') as f:\n",
    "            f.write('P2 28 28 255\\n' + ' '.join(strData))\n",
    "        \n",
    "    label_f.close()\n",
    "    image_f.close()\n",
    "    csv_f.close()\n",
    "decoding_mnist_rawData('t10k',10000)\n",
    "decoding_mnist_rawData('train',30000)"
   ]
  },
  {
   "cell_type": "code",
   "execution_count": 3,
   "metadata": {},
   "outputs": [],
   "source": [
    "def load_csv(dataType='train'):\n",
    "    f = open(f'../data/mnist/{dataType}.csv', 'r')\n",
    "    \n",
    "    labels = list()\n",
    "    images = list()\n",
    "    \n",
    "    while True:\n",
    "        row = f.readline()\n",
    "        if not row: break\n",
    "        labels.append(int(row.split(',')[0]))\n",
    "        images.append(list(map(lambda x: int(x), row.split(',')[1:])))\n",
    "    f.close()\n",
    "    return { 'labels':labels, 'images':images }\n",
    "train = load_csv('train')\n",
    "test = load_csv('t10k')"
   ]
  },
  {
   "cell_type": "code",
   "execution_count": 4,
   "metadata": {},
   "outputs": [
    {
     "data": {
      "text/plain": [
       "SVC(C=1.0, break_ties=False, cache_size=200, class_weight=None, coef0=0.0,\n",
       "    decision_function_shape='ovr', degree=3, gamma='scale', kernel='rbf',\n",
       "    max_iter=-1, probability=False, random_state=None, shrinking=True,\n",
       "    tol=0.001, verbose=False)"
      ]
     },
     "execution_count": 4,
     "metadata": {},
     "output_type": "execute_result"
    }
   ],
   "source": [
    "clf = svm.SVC()\n",
    "clf.fit(train['images'], train['labels'] )"
   ]
  },
  {
   "cell_type": "code",
   "execution_count": 5,
   "metadata": {},
   "outputs": [],
   "source": [
    "predict = clf.predict(test['images'])"
   ]
  },
  {
   "cell_type": "code",
   "execution_count": 6,
   "metadata": {},
   "outputs": [
    {
     "data": {
      "text/plain": [
       "0.9742"
      ]
     },
     "execution_count": 6,
     "metadata": {},
     "output_type": "execute_result"
    }
   ],
   "source": [
    "metrics.accuracy_score(test['labels'], predict)"
   ]
  },
  {
   "cell_type": "code",
   "execution_count": 7,
   "metadata": {},
   "outputs": [
    {
     "name": "stdout",
     "output_type": "stream",
     "text": [
      "              precision    recall  f1-score   support\n",
      "\n",
      "           0       0.98      0.99      0.98       980\n",
      "           1       0.99      0.99      0.99      1135\n",
      "           2       0.97      0.98      0.97      1032\n",
      "           3       0.97      0.98      0.97      1010\n",
      "           4       0.97      0.98      0.97       982\n",
      "           5       0.98      0.97      0.97       892\n",
      "           6       0.98      0.98      0.98       958\n",
      "           7       0.97      0.96      0.96      1028\n",
      "           8       0.97      0.97      0.97       974\n",
      "           9       0.97      0.95      0.96      1009\n",
      "\n",
      "    accuracy                           0.97     10000\n",
      "   macro avg       0.97      0.97      0.97     10000\n",
      "weighted avg       0.97      0.97      0.97     10000\n",
      "\n"
     ]
    }
   ],
   "source": [
    "clf_report = metrics.classification_report(test['labels'], predict)\n",
    "print(clf_report)"
   ]
  },
  {
   "cell_type": "code",
   "execution_count": 11,
   "metadata": {},
   "outputs": [],
   "source": [
    "from sklearn.preprocessing import MinMaxScaler\n",
    "scaler = MinMaxScaler().fit( train['images'])\n",
    "X_train_scaled = scaler.transform( train['images'] )\n",
    "clf2 = svm.SVC()"
   ]
  },
  {
   "cell_type": "code",
   "execution_count": 12,
   "metadata": {},
   "outputs": [
    {
     "data": {
      "text/plain": [
       "SVC(C=1.0, break_ties=False, cache_size=200, class_weight=None, coef0=0.0,\n",
       "    decision_function_shape='ovr', degree=3, gamma='scale', kernel='rbf',\n",
       "    max_iter=-1, probability=False, random_state=None, shrinking=True,\n",
       "    tol=0.001, verbose=False)"
      ]
     },
     "execution_count": 12,
     "metadata": {},
     "output_type": "execute_result"
    }
   ],
   "source": [
    "clf2.fit( X_train_scaled, train['labels'] )"
   ]
  },
  {
   "cell_type": "code",
   "execution_count": 13,
   "metadata": {},
   "outputs": [
    {
     "data": {
      "text/plain": [
       "0.9737"
      ]
     },
     "execution_count": 13,
     "metadata": {},
     "output_type": "execute_result"
    }
   ],
   "source": [
    "clf2.score( scaler.transform(test['images']), test['labels'] )"
   ]
  },
  {
   "cell_type": "code",
   "execution_count": 15,
   "metadata": {},
   "outputs": [],
   "source": [
    "from sklearn.model_selection import GridSearchCV\n",
    "from sklearn.preprocessing import StandardScaler"
   ]
  },
  {
   "cell_type": "code",
   "execution_count": null,
   "metadata": {},
   "outputs": [],
   "source": [
    "pipe = Pipeline([\n",
    "    ('preprocessing', StandardScaler()),\n",
    "    ('classifier', svm.SVC())\n",
    "])"
   ]
  },
  {
   "cell_type": "code",
   "execution_count": null,
   "metadata": {},
   "outputs": [],
   "source": [
    "param_grid = [\n",
    "    {\n",
    "        'classifier': [ SVC() ],\n",
    "        'preprocessing': [ StandardScaler(), MinMaxScaler() ],\n",
    "        # 이름__파라미터명 => 해당 알고리즘에 적용되는 파라미터\n",
    "        'classifier__C': [ 0.001, 0.01, 0.1, 1, 10, 100 ],\n",
    "        'classifier__gamma': [ 0.001, 0.01, 0.1, 1, 10, 100 ]\n",
    "    },\n",
    "    {\n",
    "        'classifier': [ RandomForestClassifier(n_estimators=100) ],\n",
    "        'preprocessing': [ None ],\n",
    "        'classifier__max_features': [ 1, 2, 3 ]  \n",
    "    }\n",
    "]"
   ]
  },
  {
   "cell_type": "code",
   "execution_count": null,
   "metadata": {},
   "outputs": [],
   "source": [
    "grid.fit(X_train_scaled, train['labels'])"
   ]
  },
  {
   "cell_type": "code",
   "execution_count": null,
   "metadata": {},
   "outputs": [],
   "source": [
    "grid.best_score_"
   ]
  },
  {
   "cell_type": "code",
   "execution_count": null,
   "metadata": {},
   "outputs": [],
   "source": [
    "grid.score(scaler.transform(X_test),y_test)"
   ]
  }
 ],
 "metadata": {
  "kernelspec": {
   "display_name": "Python 3",
   "language": "python",
   "name": "python3"
  },
  "language_info": {
   "codemirror_mode": {
    "name": "ipython",
    "version": 3
   },
   "file_extension": ".py",
   "mimetype": "text/x-python",
   "name": "python",
   "nbconvert_exporter": "python",
   "pygments_lexer": "ipython3",
   "version": "3.7.4"
  }
 },
 "nbformat": 4,
 "nbformat_minor": 4
}
