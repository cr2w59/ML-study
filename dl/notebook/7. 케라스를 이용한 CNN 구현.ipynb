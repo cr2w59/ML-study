{
  "nbformat": 4,
  "nbformat_minor": 0,
  "metadata": {
    "colab": {
      "name": "7케라스를 이용한 CNN 구현.ipynb",
      "provenance": [],
      "collapsed_sections": []
    },
    "kernelspec": {
      "name": "python3",
      "display_name": "Python 3"
    }
  },
  "cells": [
    {
      "cell_type": "markdown",
      "metadata": {
        "id": "ugWwvt_Djep5",
        "colab_type": "text"
      },
      "source": [
        "# 절차\n",
        "- 시퀀스 -> add() -> compile() -> fit -> 평가"
      ]
    },
    {
      "cell_type": "code",
      "metadata": {
        "id": "2EqylLJTiYrv",
        "colab_type": "code",
        "colab": {}
      },
      "source": [
        "import keras\n",
        "from keras import models, layers, backend\n",
        "from keras.datasets import mnist\n",
        "%tensorflow_version 1.x"
      ],
      "execution_count": 0,
      "outputs": []
    },
    {
      "cell_type": "markdown",
      "metadata": {
        "id": "KsjimN3BjKYl",
        "colab_type": "text"
      },
      "source": [
        "## 데이터 확보/준비"
      ]
    },
    {
      "cell_type": "code",
      "metadata": {
        "id": "9jY6XnHYjcSZ",
        "colab_type": "code",
        "colab": {}
      },
      "source": [
        "(x_train, y_train), (x_test, y_test) = mnist.load_data()"
      ],
      "execution_count": 0,
      "outputs": []
    },
    {
      "cell_type": "code",
      "metadata": {
        "id": "lVDBV5WpkMSc",
        "colab_type": "code",
        "outputId": "19173771-45ca-4383-c941-dd38485abf22",
        "colab": {
          "base_uri": "https://localhost:8080/",
          "height": 35
        }
      },
      "source": [
        "x_train.shape, y_train.shape, x_test.shape, y_test.shape\n",
        "# y_train, y_test는 벡터화 처리 해야 함"
      ],
      "execution_count": 33,
      "outputs": [
        {
          "output_type": "execute_result",
          "data": {
            "text/plain": [
              "((60000, 28, 28), (60000,), (10000, 28, 28), (10000,))"
            ]
          },
          "metadata": {
            "tags": []
          },
          "execution_count": 33
        }
      ]
    },
    {
      "cell_type": "code",
      "metadata": {
        "id": "kSEMSScikMU6",
        "colab_type": "code",
        "colab": {}
      },
      "source": [
        "# 이미지 크기\n",
        "img_rows, img_cols = x_train.shape[1:]"
      ],
      "execution_count": 0,
      "outputs": []
    },
    {
      "cell_type": "code",
      "metadata": {
        "id": "HxBv4pzskMXa",
        "colab_type": "code",
        "outputId": "73e8858c-76c1-4f68-c1a4-027eaa843071",
        "colab": {
          "base_uri": "https://localhost:8080/",
          "height": 35
        }
      },
      "source": [
        "# 채널을 설명하는 값에 의해 데이터를 보정\n",
        "# Demension 확장(keras에만 있는 부분)\n",
        "backend.image_data_format()"
      ],
      "execution_count": 35,
      "outputs": [
        {
          "output_type": "execute_result",
          "data": {
            "text/plain": [
              "'channels_last'"
            ]
          },
          "metadata": {
            "tags": []
          },
          "execution_count": 35
        }
      ]
    },
    {
      "cell_type": "code",
      "metadata": {
        "id": "I8CebwjJkMZz",
        "colab_type": "code",
        "colab": {}
      },
      "source": [
        "# 입력 데이터 보정(reshape)\n",
        "if backend.image_data_format() == 'channels_first':\n",
        "  # [60000, 28, 28] -> [60000, 1, 28, 28]\n",
        "  x_train = x_train.reshape(x_train.shape[0], 1, img_rows, img_cols)\n",
        "  x_test = x_test.reshape(x_test.shape[0], 1, img_rows, img_cols)\n",
        "  input_shape = (1, img_rows, img_cols)\n",
        "else:\n",
        "  # [60000, 28, 28] -> [60000, 28, 28, 1]\n",
        "  x_train = x_train.reshape(x_train.shape[0], img_rows, img_cols, 1)\n",
        "  x_test = x_test.reshape(x_test.shape[0], img_rows, img_cols, 1)\n",
        "  input_shape = (img_rows, img_cols, 1)"
      ],
      "execution_count": 0,
      "outputs": []
    },
    {
      "cell_type": "code",
      "metadata": {
        "id": "QsWU4mZQkMcU",
        "colab_type": "code",
        "colab": {}
      },
      "source": [
        "x_train = x_train.astype('float32')\n",
        "x_test = x_test.astype('float32')"
      ],
      "execution_count": 0,
      "outputs": []
    },
    {
      "cell_type": "code",
      "metadata": {
        "id": "EKD5b5GIpdHP",
        "colab_type": "code",
        "colab": {}
      },
      "source": [
        "# 데이터의 정규화: ~/256(총 분류 개수로 정규화), ~/255(최대값으로 정규화)\n",
        "x_train /= 255\n",
        "x_test /= 255"
      ],
      "execution_count": 0,
      "outputs": []
    },
    {
      "cell_type": "code",
      "metadata": {
        "id": "WquP-1nypzVj",
        "colab_type": "code",
        "colab": {
          "base_uri": "https://localhost:8080/",
          "height": 35
        },
        "outputId": "e2691d16-5ead-4a78-c78e-ce1f7e5cbf8d"
      },
      "source": [
        "# 레이블 벡터화\n",
        "y_train[:10]"
      ],
      "execution_count": 39,
      "outputs": [
        {
          "output_type": "execute_result",
          "data": {
            "text/plain": [
              "array([5, 0, 4, 1, 9, 2, 1, 3, 1, 4], dtype=uint8)"
            ]
          },
          "metadata": {
            "tags": []
          },
          "execution_count": 39
        }
      ]
    },
    {
      "cell_type": "code",
      "metadata": {
        "id": "RB5k9akyp9nW",
        "colab_type": "code",
        "colab": {}
      },
      "source": [
        "y_train = keras.utils.to_categorical(y_train, 10)\n",
        "y_test = keras.utils.to_categorical(y_test, 10)"
      ],
      "execution_count": 0,
      "outputs": []
    },
    {
      "cell_type": "code",
      "metadata": {
        "id": "cABgCoIhqUFi",
        "colab_type": "code",
        "colab": {
          "base_uri": "https://localhost:8080/",
          "height": 35
        },
        "outputId": "a55f793c-729f-4291-f0a3-0cf4391b1225"
      },
      "source": [
        "y_train.shape, y_train[0]"
      ],
      "execution_count": 41,
      "outputs": [
        {
          "output_type": "execute_result",
          "data": {
            "text/plain": [
              "((60000, 10), array([0., 0., 0., 0., 0., 1., 0., 0., 0., 0.], dtype=float32))"
            ]
          },
          "metadata": {
            "tags": []
          },
          "execution_count": 41
        }
      ]
    },
    {
      "cell_type": "markdown",
      "metadata": {
        "id": "n-0A7BZOjPyH",
        "colab_type": "text"
      },
      "source": [
        "## CNN 레이어 설계"
      ]
    },
    {
      "cell_type": "code",
      "metadata": {
        "id": "n43qaI5-uEyQ",
        "colab_type": "code",
        "colab": {
          "base_uri": "https://localhost:8080/",
          "height": 53
        },
        "outputId": "86052d4e-94e9-4549-b7c9-d6f88454a816"
      },
      "source": [
        "# 모델준비(시퀀스)\n",
        "model = models.Sequential()"
      ],
      "execution_count": 42,
      "outputs": [
        {
          "output_type": "stream",
          "text": [
            "WARNING:tensorflow:From /usr/local/lib/python3.6/dist-packages/keras/backend/tensorflow_backend.py:66: The name tf.get_default_graph is deprecated. Please use tf.compat.v1.get_default_graph instead.\n",
            "\n"
          ],
          "name": "stdout"
        }
      ]
    },
    {
      "cell_type": "code",
      "metadata": {
        "id": "AO5-Z8O5uHkf",
        "colab_type": "code",
        "colab": {
          "base_uri": "https://localhost:8080/",
          "height": 89
        },
        "outputId": "0214a509-ae3a-4f33-a43e-66de40b2880d"
      },
      "source": [
        "# 합성곱층 추가: 채널 수 증가, 특징 추출\n",
        "model.add(layers.Conv2D(filters=32,        # 출력채널수\n",
        "                        kernel_size=(3,3), # 가중치 shape\n",
        "                        strides=(1,1),     # 커널 이동 칸 default:(1,1)\n",
        "                        padding='valid',    # 보정, valid: 유효한 만큼만 행렬 늘림\n",
        "                        activation='relu',  # 활성화 함수\n",
        "                        input_shape=input_shape))"
      ],
      "execution_count": 44,
      "outputs": [
        {
          "output_type": "stream",
          "text": [
            "WARNING:tensorflow:From /usr/local/lib/python3.6/dist-packages/keras/backend/tensorflow_backend.py:541: The name tf.placeholder is deprecated. Please use tf.compat.v1.placeholder instead.\n",
            "\n",
            "WARNING:tensorflow:From /usr/local/lib/python3.6/dist-packages/keras/backend/tensorflow_backend.py:4432: The name tf.random_uniform is deprecated. Please use tf.random.uniform instead.\n",
            "\n"
          ],
          "name": "stdout"
        }
      ]
    },
    {
      "cell_type": "code",
      "metadata": {
        "id": "bX9H76aOuIpJ",
        "colab_type": "code",
        "colab": {
          "base_uri": "https://localhost:8080/",
          "height": 53
        },
        "outputId": "f552a657-5f3d-4547-e742-63776faa7735"
      },
      "source": [
        "# 풀링층 추가: 이미지 사이즈 감소, 특징 강화\n",
        "model.add(layers.MaxPool2D(pool_size=(2,2),\n",
        "                           strides=None # 기본값 적용\n",
        "                          ))"
      ],
      "execution_count": 46,
      "outputs": [
        {
          "output_type": "stream",
          "text": [
            "WARNING:tensorflow:From /usr/local/lib/python3.6/dist-packages/keras/backend/tensorflow_backend.py:4267: The name tf.nn.max_pool is deprecated. Please use tf.nn.max_pool2d instead.\n",
            "\n"
          ],
          "name": "stdout"
        }
      ]
    },
    {
      "cell_type": "code",
      "metadata": {
        "id": "_6s5ZlEYuZdo",
        "colab_type": "code",
        "colab": {
          "base_uri": "https://localhost:8080/",
          "height": 107
        },
        "outputId": "f6efd3dc-fa61-4228-9564-66cbedc36e67"
      },
      "source": [
        "# 과적합 방지: 학습 방해\n",
        "model.add(layers.Dropout(0.25)) # 임의의 값"
      ],
      "execution_count": 47,
      "outputs": [
        {
          "output_type": "stream",
          "text": [
            "WARNING:tensorflow:From /usr/local/lib/python3.6/dist-packages/keras/backend/tensorflow_backend.py:148: The name tf.placeholder_with_default is deprecated. Please use tf.compat.v1.placeholder_with_default instead.\n",
            "\n",
            "WARNING:tensorflow:From /usr/local/lib/python3.6/dist-packages/keras/backend/tensorflow_backend.py:3733: calling dropout (from tensorflow.python.ops.nn_ops) with keep_prob is deprecated and will be removed in a future version.\n",
            "Instructions for updating:\n",
            "Please use `rate` instead of `keep_prob`. Rate should be set to `rate = 1 - keep_prob`.\n"
          ],
          "name": "stdout"
        }
      ]
    },
    {
      "cell_type": "code",
      "metadata": {
        "id": "QYlXDc86uc8y",
        "colab_type": "code",
        "colab": {}
      },
      "source": [
        "# 합성곱층 추가: 채널 수 증가, 특징 추출\n",
        "model.add(layers.Conv2D(filters=64, kernel_size=(3,3),activation='relu'))"
      ],
      "execution_count": 0,
      "outputs": []
    },
    {
      "cell_type": "code",
      "metadata": {
        "id": "pcJZxK06udXC",
        "colab_type": "code",
        "colab": {}
      },
      "source": [
        "# 풀링층 추가: 이미지 사이즈 감소, 특징 강화\n",
        "model.add(layers.MaxPool2D(pool_size=(2,2)))"
      ],
      "execution_count": 0,
      "outputs": []
    },
    {
      "cell_type": "code",
      "metadata": {
        "id": "b68DRmntvCLv",
        "colab_type": "code",
        "colab": {}
      },
      "source": [
        "# 과적합 방지: 학습 방해\n",
        "model.add(layers.Dropout(0.25))"
      ],
      "execution_count": 0,
      "outputs": []
    },
    {
      "cell_type": "code",
      "metadata": {
        "id": "1ETGMIn71YPx",
        "colab_type": "code",
        "colab": {}
      },
      "source": [
        "# 데이터를 펴줌\n",
        "model.add(layers.Flatten())"
      ],
      "execution_count": 0,
      "outputs": []
    },
    {
      "cell_type": "code",
      "metadata": {
        "id": "6QyPS6vIvEJW",
        "colab_type": "code",
        "colab": {}
      },
      "source": [
        "# 전결합층\n",
        "# layers.Dense: 일반적 계층 1개를 의미\n",
        "# 7 x 7 x 64 => Flatten => 128에 수렴\n",
        "model.add(layers.Dense(128, activation='relu'))"
      ],
      "execution_count": 0,
      "outputs": []
    },
    {
      "cell_type": "code",
      "metadata": {
        "id": "lppbeG3nvqE9",
        "colab_type": "code",
        "colab": {}
      },
      "source": [
        "# 과적합 방지: 학습 방해\n",
        "model.add(layers.Dropout(0.5))"
      ],
      "execution_count": 0,
      "outputs": []
    },
    {
      "cell_type": "code",
      "metadata": {
        "id": "-Xas9lDVvIWd",
        "colab_type": "code",
        "colab": {}
      },
      "source": [
        "# 출력층: 데이터를 레이블의 분류 개수만큼 수렴\n",
        "model.add(layers.Dense(10, activation='softmax'))"
      ],
      "execution_count": 0,
      "outputs": []
    },
    {
      "cell_type": "markdown",
      "metadata": {
        "id": "HRZ4zL8CjP2K",
        "colab_type": "text"
      },
      "source": [
        "## 학습 및 평가"
      ]
    },
    {
      "cell_type": "code",
      "metadata": {
        "id": "MMd3UrKM2V4T",
        "colab_type": "code",
        "colab": {
          "base_uri": "https://localhost:8080/",
          "height": 89
        },
        "outputId": "a0fb8454-3c04-408f-a03e-e362bc4793b0"
      },
      "source": [
        "# 크로스 엔트로피, 경사 하강법\n",
        "model.compile(loss = keras.losses.categorical_crossentropy, \n",
        "              optimizer = 'rmsprop',\n",
        "              metrics = ['accuracy'])"
      ],
      "execution_count": 56,
      "outputs": [
        {
          "output_type": "stream",
          "text": [
            "WARNING:tensorflow:From /usr/local/lib/python3.6/dist-packages/keras/optimizers.py:793: The name tf.train.Optimizer is deprecated. Please use tf.compat.v1.train.Optimizer instead.\n",
            "\n",
            "WARNING:tensorflow:From /usr/local/lib/python3.6/dist-packages/keras/backend/tensorflow_backend.py:3576: The name tf.log is deprecated. Please use tf.math.log instead.\n",
            "\n"
          ],
          "name": "stdout"
        }
      ]
    },
    {
      "cell_type": "code",
      "metadata": {
        "id": "vBFbV9gN2cJF",
        "colab_type": "code",
        "colab": {}
      },
      "source": [
        "epochs = 10       # 훈련 세대 수(=총 학습의 횟수)\n",
        "batch_size = 128  # 1회 학습 데이터 양"
      ],
      "execution_count": 0,
      "outputs": []
    },
    {
      "cell_type": "code",
      "metadata": {
        "id": "qZ_7TiJX2YBq",
        "colab_type": "code",
        "colab": {
          "base_uri": "https://localhost:8080/",
          "height": 755
        },
        "outputId": "108ed849-7125-46cc-9634-c963d2e3708f"
      },
      "source": [
        "model.fit(x_train, y_train ,batch_size, epochs, validation_split=0.25)"
      ],
      "execution_count": 58,
      "outputs": [
        {
          "output_type": "stream",
          "text": [
            "WARNING:tensorflow:From /usr/local/lib/python3.6/dist-packages/tensorflow_core/python/ops/math_grad.py:1424: where (from tensorflow.python.ops.array_ops) is deprecated and will be removed in a future version.\n",
            "Instructions for updating:\n",
            "Use tf.where in 2.0, which has the same broadcast rule as np.where\n",
            "WARNING:tensorflow:From /usr/local/lib/python3.6/dist-packages/keras/backend/tensorflow_backend.py:1033: The name tf.assign_add is deprecated. Please use tf.compat.v1.assign_add instead.\n",
            "\n",
            "WARNING:tensorflow:From /usr/local/lib/python3.6/dist-packages/keras/backend/tensorflow_backend.py:1020: The name tf.assign is deprecated. Please use tf.compat.v1.assign instead.\n",
            "\n",
            "WARNING:tensorflow:From /usr/local/lib/python3.6/dist-packages/keras/backend/tensorflow_backend.py:3005: The name tf.Session is deprecated. Please use tf.compat.v1.Session instead.\n",
            "\n",
            "Train on 45000 samples, validate on 15000 samples\n",
            "Epoch 1/10\n",
            "WARNING:tensorflow:From /usr/local/lib/python3.6/dist-packages/keras/backend/tensorflow_backend.py:190: The name tf.get_default_session is deprecated. Please use tf.compat.v1.get_default_session instead.\n",
            "\n",
            "WARNING:tensorflow:From /usr/local/lib/python3.6/dist-packages/keras/backend/tensorflow_backend.py:197: The name tf.ConfigProto is deprecated. Please use tf.compat.v1.ConfigProto instead.\n",
            "\n",
            "WARNING:tensorflow:From /usr/local/lib/python3.6/dist-packages/keras/backend/tensorflow_backend.py:207: The name tf.global_variables is deprecated. Please use tf.compat.v1.global_variables instead.\n",
            "\n",
            "WARNING:tensorflow:From /usr/local/lib/python3.6/dist-packages/keras/backend/tensorflow_backend.py:216: The name tf.is_variable_initialized is deprecated. Please use tf.compat.v1.is_variable_initialized instead.\n",
            "\n",
            "WARNING:tensorflow:From /usr/local/lib/python3.6/dist-packages/keras/backend/tensorflow_backend.py:223: The name tf.variables_initializer is deprecated. Please use tf.compat.v1.variables_initializer instead.\n",
            "\n",
            "45000/45000 [==============================] - 43s 950us/step - loss: 0.3844 - acc: 0.8796 - val_loss: 0.0926 - val_acc: 0.9713\n",
            "Epoch 2/10\n",
            "45000/45000 [==============================] - 42s 933us/step - loss: 0.1260 - acc: 0.9612 - val_loss: 0.0607 - val_acc: 0.9819\n",
            "Epoch 3/10\n",
            "45000/45000 [==============================] - 42s 936us/step - loss: 0.0917 - acc: 0.9730 - val_loss: 0.0506 - val_acc: 0.9837\n",
            "Epoch 4/10\n",
            "45000/45000 [==============================] - 42s 931us/step - loss: 0.0759 - acc: 0.9768 - val_loss: 0.0444 - val_acc: 0.9867\n",
            "Epoch 5/10\n",
            "45000/45000 [==============================] - 42s 938us/step - loss: 0.0693 - acc: 0.9794 - val_loss: 0.0425 - val_acc: 0.9874\n",
            "Epoch 6/10\n",
            "45000/45000 [==============================] - 42s 932us/step - loss: 0.0625 - acc: 0.9816 - val_loss: 0.0404 - val_acc: 0.9884\n",
            "Epoch 7/10\n",
            "45000/45000 [==============================] - 42s 936us/step - loss: 0.0558 - acc: 0.9832 - val_loss: 0.0373 - val_acc: 0.9891\n",
            "Epoch 8/10\n",
            "45000/45000 [==============================] - 42s 938us/step - loss: 0.0553 - acc: 0.9839 - val_loss: 0.0375 - val_acc: 0.9883\n",
            "Epoch 9/10\n",
            "45000/45000 [==============================] - 42s 931us/step - loss: 0.0490 - acc: 0.9854 - val_loss: 0.0368 - val_acc: 0.9889\n",
            "Epoch 10/10\n",
            "45000/45000 [==============================] - 42s 930us/step - loss: 0.0490 - acc: 0.9853 - val_loss: 0.0336 - val_acc: 0.9897\n"
          ],
          "name": "stdout"
        },
        {
          "output_type": "execute_result",
          "data": {
            "text/plain": [
              "<keras.callbacks.History at 0x7f931dcc8550>"
            ]
          },
          "metadata": {
            "tags": []
          },
          "execution_count": 58
        }
      ]
    },
    {
      "cell_type": "code",
      "metadata": {
        "id": "qurBUQRE5yjp",
        "colab_type": "code",
        "colab": {
          "base_uri": "https://localhost:8080/",
          "height": 53
        },
        "outputId": "40cc9766-5421-4504-958b-f97144635dbb"
      },
      "source": [
        "# 점수\n",
        "score = model.evaluate(x_test, y_test)\n",
        "score"
      ],
      "execution_count": 59,
      "outputs": [
        {
          "output_type": "stream",
          "text": [
            "10000/10000 [==============================] - 3s 311us/step\n"
          ],
          "name": "stdout"
        },
        {
          "output_type": "execute_result",
          "data": {
            "text/plain": [
              "[0.027430314925371204, 0.9908]"
            ]
          },
          "metadata": {
            "tags": []
          },
          "execution_count": 59
        }
      ]
    },
    {
      "cell_type": "code",
      "metadata": {
        "id": "YwVJF68A54Ae",
        "colab_type": "code",
        "colab": {}
      },
      "source": [
        ""
      ],
      "execution_count": 0,
      "outputs": []
    }
  ]
}