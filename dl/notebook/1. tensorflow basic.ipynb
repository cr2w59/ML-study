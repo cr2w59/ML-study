{
  "nbformat": 4,
  "nbformat_minor": 0,
  "metadata": {
    "colab": {
      "name": "1. tensorflow_basic.ipynb",
      "provenance": [],
      "collapsed_sections": []
    },
    "kernelspec": {
      "name": "python3",
      "display_name": "Python 3"
    }
  },
  "cells": [
    {
      "cell_type": "markdown",
      "metadata": {
        "id": "OuJ5sB0JNRud",
        "colab_type": "text"
      },
      "source": [
        "# 목적\n",
        "\n",
        "- 텐서플로우 기본 사용법 익히기"
      ]
    },
    {
      "cell_type": "markdown",
      "metadata": {
        "id": "6mD_LxlCQalE",
        "colab_type": "text"
      },
      "source": [
        "# 기본틀\n",
        "- 그래프\n",
        "- 연산 처리"
      ]
    },
    {
      "cell_type": "code",
      "metadata": {
        "id": "uV7WOl-3NNWW",
        "colab_type": "code",
        "colab": {
          "base_uri": "https://localhost:8080/",
          "height": 81
        },
        "outputId": "c6b5bb2f-8a4b-487b-ee63-62ba91c15c4c"
      },
      "source": [
        "import tensorflow as tf\n",
        "%tensorflow_version 1.x"
      ],
      "execution_count": 1,
      "outputs": [
        {
          "output_type": "display_data",
          "data": {
            "text/html": [
              "<p style=\"color: red;\">\n",
              "The default version of TensorFlow in Colab will soon switch to TensorFlow 2.x.<br>\n",
              "We recommend you <a href=\"https://www.tensorflow.org/guide/migrate\" target=\"_blank\">upgrade</a> now \n",
              "or ensure your notebook will continue to use TensorFlow 1.x via the <code>%tensorflow_version 1.x</code> magic:\n",
              "<a href=\"https://colab.research.google.com/notebooks/tensorflow_version.ipynb\" target=\"_blank\">more info</a>.</p>\n"
            ],
            "text/plain": [
              "<IPython.core.display.HTML object>"
            ]
          },
          "metadata": {
            "tags": []
          }
        }
      ]
    },
    {
      "cell_type": "code",
      "metadata": {
        "id": "a452ZiwzN0NA",
        "colab_type": "code",
        "colab": {
          "base_uri": "https://localhost:8080/",
          "height": 35
        },
        "outputId": "8b8a85ee-66fa-4c2b-f45e-80cfff05caeb"
      },
      "source": [
        "# 관계 기술 => 그래프 => flow 구성\n",
        "hello = tf.constant('hello DL!!')\n",
        "hello"
      ],
      "execution_count": 3,
      "outputs": [
        {
          "output_type": "execute_result",
          "data": {
            "text/plain": [
              "<tf.Tensor 'Const:0' shape=() dtype=string>"
            ]
          },
          "metadata": {
            "tags": []
          },
          "execution_count": 3
        }
      ]
    },
    {
      "cell_type": "code",
      "metadata": {
        "id": "6_zsy_XeORjZ",
        "colab_type": "code",
        "colab": {
          "base_uri": "https://localhost:8080/",
          "height": 35
        },
        "outputId": "4ec6a21f-8132-48b6-ae00-5347b2b13f82"
      },
      "source": [
        "# 구동\n",
        "# 1. 세션 오픈\n",
        "sess = tf.Session()\n",
        "# 2. 데이터를 주입하여 연산\n",
        "print(sess.run(hello))\n",
        "# 3. 세션 클로즈\n",
        "sess.close()"
      ],
      "execution_count": 4,
      "outputs": [
        {
          "output_type": "execute_result",
          "data": {
            "text/plain": [
              "b'hello DL!!'"
            ]
          },
          "metadata": {
            "tags": []
          },
          "execution_count": 4
        }
      ]
    },
    {
      "cell_type": "code",
      "metadata": {
        "id": "vL9xzvbsPIch",
        "colab_type": "code",
        "colab": {
          "base_uri": "https://localhost:8080/",
          "height": 35
        },
        "outputId": "17909ff4-d4f8-4d46-a067-cef9d9ae2b1d"
      },
      "source": [
        "with tf.Session() as sess:\n",
        "  print(sess.run(hello))"
      ],
      "execution_count": 7,
      "outputs": [
        {
          "output_type": "stream",
          "text": [
            "b'hello DL!!'\n"
          ],
          "name": "stdout"
        }
      ]
    },
    {
      "cell_type": "markdown",
      "metadata": {
        "id": "1c9xqsRuRAju",
        "colab_type": "text"
      },
      "source": [
        "# 텐서플로우를 이용한 간단한 연산"
      ]
    },
    {
      "cell_type": "code",
      "metadata": {
        "id": "khpzRJVYPscG",
        "colab_type": "code",
        "colab": {
          "base_uri": "https://localhost:8080/",
          "height": 53
        },
        "outputId": "6ac036e9-7100-49a1-bb93-81c5dd3373a1"
      },
      "source": [
        "# 1. flow 구성\n",
        "# 상수 정의\n",
        "a = tf.constant(123)\n",
        "b = tf.constant(500)\n",
        "a, b"
      ],
      "execution_count": 8,
      "outputs": [
        {
          "output_type": "execute_result",
          "data": {
            "text/plain": [
              "(<tf.Tensor 'Const_1:0' shape=() dtype=int32>,\n",
              " <tf.Tensor 'Const_2:0' shape=() dtype=int32>)"
            ]
          },
          "metadata": {
            "tags": []
          },
          "execution_count": 8
        }
      ]
    },
    {
      "cell_type": "code",
      "metadata": {
        "id": "0uLNf7oHRKn3",
        "colab_type": "code",
        "colab": {}
      },
      "source": [
        "# 연산 형태 정의\n",
        "add_operation = a + b "
      ],
      "execution_count": 0,
      "outputs": []
    },
    {
      "cell_type": "code",
      "metadata": {
        "id": "z7C_6y3oRjQn",
        "colab_type": "code",
        "colab": {
          "base_uri": "https://localhost:8080/",
          "height": 35
        },
        "outputId": "1563c5d6-e0c6-475b-e9fe-a3a229ff5c31"
      },
      "source": [
        "# 실제 연산 처리(구동)\n",
        "with tf.Session() as sess:\n",
        "  res = sess.run(add_operation)\n",
        "  print(res, type(res))"
      ],
      "execution_count": 11,
      "outputs": [
        {
          "output_type": "stream",
          "text": [
            "623 <class 'numpy.int32'>\n"
          ],
          "name": "stdout"
        }
      ]
    },
    {
      "cell_type": "markdown",
      "metadata": {
        "id": "Ih0egtRoSKfe",
        "colab_type": "text"
      },
      "source": [
        "# 텐서플로우의 기본 항목 사용\n",
        "- 핵심 데이터 구조\n",
        "  1. 상수: Constant\n",
        "  2. 변수: Variable\n",
        "  3. 플레이스홀더: Placeholder"
      ]
    },
    {
      "cell_type": "code",
      "metadata": {
        "id": "DoVT7RP-Rxo-",
        "colab_type": "code",
        "colab": {
          "base_uri": "https://localhost:8080/",
          "height": 71
        },
        "outputId": "ae0c03ad-7df6-4c2a-a6f3-ab3351d18937"
      },
      "source": [
        "# 상수 정의\n",
        "a = tf.constant(100, name='a')\n",
        "b = tf.constant(110, name='b')\n",
        "c = tf.constant(120, name='c')\n",
        "a,b,c"
      ],
      "execution_count": 13,
      "outputs": [
        {
          "output_type": "execute_result",
          "data": {
            "text/plain": [
              "(<tf.Tensor 'a:0' shape=() dtype=int32>,\n",
              " <tf.Tensor 'b:0' shape=() dtype=int32>,\n",
              " <tf.Tensor 'c:0' shape=() dtype=int32>)"
            ]
          },
          "metadata": {
            "tags": []
          },
          "execution_count": 13
        }
      ]
    },
    {
      "cell_type": "code",
      "metadata": {
        "id": "gP-vs5DYSr25",
        "colab_type": "code",
        "colab": {
          "base_uri": "https://localhost:8080/",
          "height": 35
        },
        "outputId": "b551cf99-80c2-46ac-e4af-fb50888dd9dd"
      },
      "source": [
        "# 변수 정의\n",
        "v = tf.Variable(0, name='v')\n",
        "v, v.name"
      ],
      "execution_count": 14,
      "outputs": [
        {
          "output_type": "execute_result",
          "data": {
            "text/plain": [
              "(<tf.Variable 'v:0' shape=() dtype=int32_ref>, 'v:0')"
            ]
          },
          "metadata": {
            "tags": []
          },
          "execution_count": 14
        }
      ]
    },
    {
      "cell_type": "code",
      "metadata": {
        "id": "1hYq9Gc3TYg5",
        "colab_type": "code",
        "colab": {}
      },
      "source": [
        "# 연산(데이터 플로우 그래프) 정의\n",
        "calc_operation = a + b + c"
      ],
      "execution_count": 0,
      "outputs": []
    },
    {
      "cell_type": "code",
      "metadata": {
        "id": "7t2ToCtBT_PZ",
        "colab_type": "code",
        "colab": {
          "base_uri": "https://localhost:8080/",
          "height": 35
        },
        "outputId": "e9014521-8b28-4907-bd64-163e8b36a5ba"
      },
      "source": [
        "assign_operation = tf.assign(v, calc_operation)\n",
        "assign_operation"
      ],
      "execution_count": 16,
      "outputs": [
        {
          "output_type": "execute_result",
          "data": {
            "text/plain": [
              "<tf.Tensor 'Assign:0' shape=() dtype=int32_ref>"
            ]
          },
          "metadata": {
            "tags": []
          },
          "execution_count": 16
        }
      ]
    },
    {
      "cell_type": "code",
      "metadata": {
        "id": "sxVUNE44UNqt",
        "colab_type": "code",
        "colab": {
          "base_uri": "https://localhost:8080/",
          "height": 53
        },
        "outputId": "3024638b-8b17-4c08-b3e8-fea1ea66c6c8"
      },
      "source": [
        "with tf.Session() as sess:\n",
        "  res = sess.run(assign_operation)\n",
        "  print(res, type(res))\n",
        "  res = sess.run(v)\n",
        "  print(res, type(res))"
      ],
      "execution_count": 17,
      "outputs": [
        {
          "output_type": "stream",
          "text": [
            "330 <class 'numpy.int32'>\n",
            "330 <class 'numpy.int32'>\n"
          ],
          "name": "stdout"
        }
      ]
    },
    {
      "cell_type": "markdown",
      "metadata": {
        "id": "64WcaRlAVMl6",
        "colab_type": "text"
      },
      "source": [
        "## 플레이스 홀더\n",
        "  - 템플릿같은 느낌\n",
        "  - 데이터 플로우 그래프를 구축 시 값을 담는 형태만 정의\n",
        "  - 세션 수행 시 데이터가 담긴다(함수 호출 시 인자를 받는 파라미터 같은 것)"
      ]
    },
    {
      "cell_type": "code",
      "metadata": {
        "id": "M1r6PTMWUsK2",
        "colab_type": "code",
        "colab": {}
      },
      "source": [
        "# 플레이스홀더\n",
        "# 정수값 3개가 올 수 있다\n",
        "p = tf.placeholder(tf.int32, [3])\n",
        "# 상수\n",
        "c = tf.constant(2)\n",
        "# 벡터 * 스칼라\n",
        "x2_op = p * c"
      ],
      "execution_count": 0,
      "outputs": []
    },
    {
      "cell_type": "code",
      "metadata": {
        "id": "AB0C8FjZkPBP",
        "colab_type": "code",
        "colab": {
          "base_uri": "https://localhost:8080/",
          "height": 35
        },
        "outputId": "db7287fa-d67e-4b73-af36-1c98220daa14"
      },
      "source": [
        "with tf.Session() as sess:\n",
        "  res = sess.run(x2_op, feed_dict={p:[1,2,3]})\n",
        "  print(res, type(res))"
      ],
      "execution_count": 21,
      "outputs": [
        {
          "output_type": "stream",
          "text": [
            "[2 4 6] <class 'numpy.ndarray'>\n"
          ],
          "name": "stdout"
        }
      ]
    },
    {
      "cell_type": "code",
      "metadata": {
        "id": "-kQ601JLk8O0",
        "colab_type": "code",
        "colab": {
          "base_uri": "https://localhost:8080/",
          "height": 53
        },
        "outputId": "faa9acaf-2b08-479a-a1f1-b6a4b9d3ccdf"
      },
      "source": [
        "# 가변 크기 플레이스홀더\n",
        "# 크기를 모를 때와 크기를 다양하게 받을 때\n",
        "p = tf.placeholder(tf.int32, [None])\n",
        "c = tf.constant(3)\n",
        "x3_op = p * c\n",
        "with tf.Session() as sess:\n",
        "  res = sess.run(x3_op, feed_dict={p:[1,2,3]})\n",
        "  print(res, type(res))\n",
        "  res = sess.run(x3_op, feed_dict={p:[10,11]})\n",
        "  print(res, type(res))"
      ],
      "execution_count": 22,
      "outputs": [
        {
          "output_type": "stream",
          "text": [
            "[3 6 9] <class 'numpy.ndarray'>\n",
            "[30 33] <class 'numpy.ndarray'>\n"
          ],
          "name": "stdout"
        }
      ]
    },
    {
      "cell_type": "markdown",
      "metadata": {
        "id": "Wo45ijUqnuUk",
        "colab_type": "text"
      },
      "source": [
        "# 세션 구동\n",
        "\n",
        "- Session()\n",
        "- InteractiveSession()\n",
        "  - run() 사용하지 않음\n",
        "  - eval() 사용해 처리"
      ]
    },
    {
      "cell_type": "code",
      "metadata": {
        "id": "S1iEUtcxpQ7F",
        "colab_type": "code",
        "colab": {}
      },
      "source": [
        "sess = tf.InteractiveSession()"
      ],
      "execution_count": 0,
      "outputs": []
    },
    {
      "cell_type": "code",
      "metadata": {
        "id": "zLJq7aKamkqJ",
        "colab_type": "code",
        "colab": {
          "base_uri": "https://localhost:8080/",
          "height": 89
        },
        "outputId": "94f64c9b-d88b-40b1-aba3-383790e1be3d"
      },
      "source": [
        "matrix1 = tf.constant([ [1., 2.], [3., 4.] ])\n",
        "matrix2 = tf.constant([ [10.], [20.] ])\n",
        "matrix1, matrix1.shape, matrix2, matrix2.shape"
      ],
      "execution_count": 24,
      "outputs": [
        {
          "output_type": "execute_result",
          "data": {
            "text/plain": [
              "(<tf.Tensor 'Const_7:0' shape=(2, 2) dtype=float32>,\n",
              " TensorShape([Dimension(2), Dimension(2)]),\n",
              " <tf.Tensor 'Const_8:0' shape=(2, 1) dtype=float32>,\n",
              " TensorShape([Dimension(2), Dimension(1)]))"
            ]
          },
          "metadata": {
            "tags": []
          },
          "execution_count": 24
        }
      ]
    },
    {
      "cell_type": "code",
      "metadata": {
        "id": "Ul62bmRDolBX",
        "colab_type": "code",
        "colab": {
          "base_uri": "https://localhost:8080/",
          "height": 53
        },
        "outputId": "ed2280b5-e8d1-4e0f-981a-dda904293c01"
      },
      "source": [
        "# 행렬의 곱\n",
        "tf.matmul(matrix1, matrix2).eval()"
      ],
      "execution_count": 29,
      "outputs": [
        {
          "output_type": "execute_result",
          "data": {
            "text/plain": [
              "array([[ 50.],\n",
              "       [110.]], dtype=float32)"
            ]
          },
          "metadata": {
            "tags": []
          },
          "execution_count": 29
        }
      ]
    },
    {
      "cell_type": "code",
      "metadata": {
        "id": "fX-T0HIqpB53",
        "colab_type": "code",
        "colab": {
          "base_uri": "https://localhost:8080/",
          "height": 53
        },
        "outputId": "8cba60b2-f9b6-40d3-b00a-bc0003a85826"
      },
      "source": [
        "(matrix1 * matrix2).eval()"
      ],
      "execution_count": 30,
      "outputs": [
        {
          "output_type": "execute_result",
          "data": {
            "text/plain": [
              "array([[10., 20.],\n",
              "       [60., 80.]], dtype=float32)"
            ]
          },
          "metadata": {
            "tags": []
          },
          "execution_count": 30
        }
      ]
    },
    {
      "cell_type": "code",
      "metadata": {
        "id": "zljasVcJpFOd",
        "colab_type": "code",
        "colab": {}
      },
      "source": [
        "sess.close()"
      ],
      "execution_count": 0,
      "outputs": []
    }
  ]
}