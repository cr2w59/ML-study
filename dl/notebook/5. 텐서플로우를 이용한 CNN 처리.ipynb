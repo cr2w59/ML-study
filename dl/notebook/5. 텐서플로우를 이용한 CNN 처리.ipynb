{
  "nbformat": 4,
  "nbformat_minor": 0,
  "metadata": {
    "colab": {
      "name": "5. 텐서플로우를 이용한 CNN 처리.ipynb",
      "provenance": [],
      "collapsed_sections": []
    },
    "kernelspec": {
      "name": "python3",
      "display_name": "Python 3"
    }
  },
  "cells": [
    {
      "cell_type": "markdown",
      "metadata": {
        "id": "fA1NX36tzIC7",
        "colab_type": "text"
      },
      "source": [
        "# 1. 연구목표\n",
        "\n",
        "- MNIST 손글씨 이미지 데이터를 사용\n",
        "- 손글씨 이미지를 분류\n",
        "- 알고리즘 목적\n",
        "  - 딥러닝의 CNN을 이용해서 손글씨를 예측하는 모델 구축\n",
        "  - 예측 모델 도출, 정확도 평가 후 관찰\n",
        "- 딥러닝 엔진 중 텐서플로우를 이용해 구현"
      ]
    },
    {
      "cell_type": "markdown",
      "metadata": {
        "id": "-IxWVlKpzJM7",
        "colab_type": "text"
      },
      "source": [
        "# 2. 데이터 확보/수집"
      ]
    },
    {
      "cell_type": "code",
      "metadata": {
        "id": "Dve9tIs72Obf",
        "colab_type": "code",
        "colab": {}
      },
      "source": [
        "import tensorflow as tf\n",
        "%tensorflow_version 1.x"
      ],
      "execution_count": 0,
      "outputs": []
    },
    {
      "cell_type": "code",
      "metadata": {
        "id": "RP56dQ562lEp",
        "colab_type": "code",
        "colab": {}
      },
      "source": [
        "mnist = tf.keras.datasets.mnist.load_data(path='mnist.npz')"
      ],
      "execution_count": 0,
      "outputs": []
    },
    {
      "cell_type": "code",
      "metadata": {
        "id": "dCo-eRpk2lHP",
        "colab_type": "code",
        "outputId": "45544495-1a08-402d-ef96-93bfed011577",
        "colab": {
          "base_uri": "https://localhost:8080/",
          "height": 107
        }
      },
      "source": [
        "type(mnist), len(mnist[0][0]), mnist[0][1], len(mnist[1][0]), mnist[1][1]\n",
        "# 훈련용 데이터: mnist[0][0]\n",
        "# 훈련용 레이블: mnist[0][1]\n",
        "# 테스트용 데이터: mnist[1][0]\n",
        "# 테스트용 레이블: mnist[1][1]"
      ],
      "execution_count": 135,
      "outputs": [
        {
          "output_type": "execute_result",
          "data": {
            "text/plain": [
              "(tuple,\n",
              " 60000,\n",
              " array([5, 0, 4, ..., 5, 6, 8], dtype=uint8),\n",
              " 10000,\n",
              " array([7, 2, 1, ..., 4, 5, 6], dtype=uint8))"
            ]
          },
          "metadata": {
            "tags": []
          },
          "execution_count": 135
        }
      ]
    },
    {
      "cell_type": "code",
      "metadata": {
        "id": "e0YvAugb2lKH",
        "colab_type": "code",
        "outputId": "e262dd2a-9f27-4bb0-9468-fed39bb776a1",
        "colab": {
          "base_uri": "https://localhost:8080/",
          "height": 89
        }
      },
      "source": [
        "# 레이블이 이미 벡터화 되어서 제공되는 tf의 데이터셋 활용(1.x에서만 사용 가능)\n",
        "from tensorflow.examples.tutorials.mnist import input_data\n",
        "mnist = input_data.read_data_sets('./data/mnist/', one_hot=True)"
      ],
      "execution_count": 136,
      "outputs": [
        {
          "output_type": "stream",
          "text": [
            "Extracting ./data/mnist/train-images-idx3-ubyte.gz\n",
            "Extracting ./data/mnist/train-labels-idx1-ubyte.gz\n",
            "Extracting ./data/mnist/t10k-images-idx3-ubyte.gz\n",
            "Extracting ./data/mnist/t10k-labels-idx1-ubyte.gz\n"
          ],
          "name": "stdout"
        }
      ]
    },
    {
      "cell_type": "code",
      "metadata": {
        "id": "wreAQ-Kz3pFO",
        "colab_type": "code",
        "outputId": "42192e4e-5798-4eef-9dcc-afeb54b09756",
        "colab": {
          "base_uri": "https://localhost:8080/",
          "height": 35
        }
      },
      "source": [
        "type(mnist)"
      ],
      "execution_count": 137,
      "outputs": [
        {
          "output_type": "execute_result",
          "data": {
            "text/plain": [
              "tensorflow.contrib.learn.python.learn.datasets.base.Datasets"
            ]
          },
          "metadata": {
            "tags": []
          },
          "execution_count": 137
        }
      ]
    },
    {
      "cell_type": "code",
      "metadata": {
        "id": "Nv0Jgtok4dNJ",
        "colab_type": "code",
        "outputId": "fbdbd2b6-2a04-4571-fda2-4ab5ec978c42",
        "colab": {
          "base_uri": "https://localhost:8080/",
          "height": 35
        }
      },
      "source": [
        "mnist.train.images.shape, mnist.train.labels.shape"
      ],
      "execution_count": 138,
      "outputs": [
        {
          "output_type": "execute_result",
          "data": {
            "text/plain": [
              "((55000, 784), (55000, 10))"
            ]
          },
          "metadata": {
            "tags": []
          },
          "execution_count": 138
        }
      ]
    },
    {
      "cell_type": "code",
      "metadata": {
        "id": "68l-Kym54dQg",
        "colab_type": "code",
        "outputId": "2a19c4f6-bab7-49ac-b55f-1767ac8fd4dd",
        "colab": {
          "base_uri": "https://localhost:8080/",
          "height": 71
        }
      },
      "source": [
        "mnist.train.labels[:3]"
      ],
      "execution_count": 139,
      "outputs": [
        {
          "output_type": "execute_result",
          "data": {
            "text/plain": [
              "array([[0., 0., 0., 0., 0., 0., 0., 1., 0., 0.],\n",
              "       [0., 0., 0., 1., 0., 0., 0., 0., 0., 0.],\n",
              "       [0., 0., 0., 0., 1., 0., 0., 0., 0., 0.]])"
            ]
          },
          "metadata": {
            "tags": []
          },
          "execution_count": 139
        }
      ]
    },
    {
      "cell_type": "code",
      "metadata": {
        "id": "pwer2pbuLwTu",
        "colab_type": "code",
        "outputId": "89454254-e553-4a62-987e-a29440c5ffff",
        "colab": {
          "base_uri": "https://localhost:8080/",
          "height": 143
        }
      },
      "source": [
        "# 이미지 데이터는 float\n",
        "mnist.train.images"
      ],
      "execution_count": 140,
      "outputs": [
        {
          "output_type": "execute_result",
          "data": {
            "text/plain": [
              "array([[0., 0., 0., ..., 0., 0., 0.],\n",
              "       [0., 0., 0., ..., 0., 0., 0.],\n",
              "       [0., 0., 0., ..., 0., 0., 0.],\n",
              "       ...,\n",
              "       [0., 0., 0., ..., 0., 0., 0.],\n",
              "       [0., 0., 0., ..., 0., 0., 0.],\n",
              "       [0., 0., 0., ..., 0., 0., 0.]], dtype=float32)"
            ]
          },
          "metadata": {
            "tags": []
          },
          "execution_count": 140
        }
      ]
    },
    {
      "cell_type": "markdown",
      "metadata": {
        "id": "E98cdKJXzJWr",
        "colab_type": "text"
      },
      "source": [
        "# 3. 데이터 준비"
      ]
    },
    {
      "cell_type": "code",
      "metadata": {
        "id": "MLYhzlyA4dT3",
        "colab_type": "code",
        "outputId": "f41a58dc-5a52-43d0-d97e-2155d4700120",
        "colab": {
          "base_uri": "https://localhost:8080/",
          "height": 35
        }
      },
      "source": [
        "# 벡터화된 레이블을 보고 원래값 0~9를 찾아내는 방법 확인\n",
        "# 힌트 => 배열 10칸 중에서 1이 존재하는 인덱스 값 => 실제 수치값\n",
        "type(mnist.train.labels)"
      ],
      "execution_count": 141,
      "outputs": [
        {
          "output_type": "execute_result",
          "data": {
            "text/plain": [
              "numpy.ndarray"
            ]
          },
          "metadata": {
            "tags": []
          },
          "execution_count": 141
        }
      ]
    },
    {
      "cell_type": "code",
      "metadata": {
        "id": "Ej_AC8rU6NSj",
        "colab_type": "code",
        "colab": {}
      },
      "source": [
        "import numpy as np"
      ],
      "execution_count": 0,
      "outputs": []
    },
    {
      "cell_type": "code",
      "metadata": {
        "id": "6kxfEvQq6IJy",
        "colab_type": "code",
        "outputId": "59bfd79c-7df7-4cd0-aa46-878eec59527d",
        "colab": {
          "base_uri": "https://localhost:8080/",
          "height": 35
        }
      },
      "source": [
        "np.where( mnist.train.labels[:1][0] )[0][0]"
      ],
      "execution_count": 143,
      "outputs": [
        {
          "output_type": "execute_result",
          "data": {
            "text/plain": [
              "7"
            ]
          },
          "metadata": {
            "tags": []
          },
          "execution_count": 143
        }
      ]
    },
    {
      "cell_type": "code",
      "metadata": {
        "id": "DhwpXu4p7Xl_",
        "colab_type": "code",
        "outputId": "0dbab1db-42a2-4cca-ed4d-f57d15087961",
        "colab": {
          "base_uri": "https://localhost:8080/",
          "height": 35
        }
      },
      "source": [
        "# 이미지 1개당 피쳐의 크기\n",
        "pixels = mnist.train.images.shape[1]\n",
        "pixels"
      ],
      "execution_count": 144,
      "outputs": [
        {
          "output_type": "execute_result",
          "data": {
            "text/plain": [
              "784"
            ]
          },
          "metadata": {
            "tags": []
          },
          "execution_count": 144
        }
      ]
    },
    {
      "cell_type": "code",
      "metadata": {
        "id": "U0r2oDoZ63nC",
        "colab_type": "code",
        "outputId": "f8f65579-c620-4bdd-8a76-a18a7ed0fb35",
        "colab": {
          "base_uri": "https://localhost:8080/",
          "height": 35
        }
      },
      "source": [
        "# 레이블 1개당 피쳐의 크기\n",
        "nums = mnist.train.labels.shape[1]\n",
        "nums"
      ],
      "execution_count": 145,
      "outputs": [
        {
          "output_type": "execute_result",
          "data": {
            "text/plain": [
              "10"
            ]
          },
          "metadata": {
            "tags": []
          },
          "execution_count": 145
        }
      ]
    },
    {
      "cell_type": "code",
      "metadata": {
        "id": "sWRGW_Q26w7q",
        "colab_type": "code",
        "outputId": "e3b38e0c-7091-436e-ba78-c464e8dd3e00",
        "colab": {
          "base_uri": "https://localhost:8080/",
          "height": 35
        }
      },
      "source": [
        "# 이미지 가로 크기 혹은 세로 크기\n",
        "pixel_wh_size = int(np.sqrt(pixels))\n",
        "pixel_wh_size"
      ],
      "execution_count": 146,
      "outputs": [
        {
          "output_type": "execute_result",
          "data": {
            "text/plain": [
              "28"
            ]
          },
          "metadata": {
            "tags": []
          },
          "execution_count": 146
        }
      ]
    },
    {
      "cell_type": "markdown",
      "metadata": {
        "id": "eUebFfRbzJfM",
        "colab_type": "text"
      },
      "source": [
        "# 4. 데이터 분석(생략)"
      ]
    },
    {
      "cell_type": "markdown",
      "metadata": {
        "id": "8Rf4K1m9zJnb",
        "colab_type": "text"
      },
      "source": [
        "# 5. 모델링\n",
        "\n",
        "## 5-1. 데이터 플로우 그래프 구축\n",
        "- 레이어를 구축하면서 상수, 변수, 플레이스홀더, 연산 등의 요소를 정의\n",
        "- 레이어 구축 및 연결(원칙: 앞단계의 출력은 뒷단계의 입력이 됨)\n",
        "  - 입력층\n",
        "  - 합성곱층a\n",
        "  - 풀링층a\n",
        "  - 합성곱층b\n",
        "  - 풀링층b\n",
        "  - 전결합층\n",
        "  - 드롭아웃층\n",
        "  - 출력층\n",
        "\n",
        "## 5-2. 실행(학습, 예측, 평가)\n",
        "- 데이터를 준비(batch) -> 학습 -> 예측 -> 평가(출력)"
      ]
    },
    {
      "cell_type": "markdown",
      "metadata": {
        "id": "00T-QFaV00qE",
        "colab_type": "text"
      },
      "source": [
        "## 5-1. 데이터 플로우 그래프 구축\n"
      ]
    },
    {
      "cell_type": "markdown",
      "metadata": {
        "id": "4Wc__X_pJ5PW",
        "colab_type": "text"
      },
      "source": [
        "### 입력층"
      ]
    },
    {
      "cell_type": "code",
      "metadata": {
        "id": "Ch4EGgm1Kf-I",
        "colab_type": "code",
        "colab": {}
      },
      "source": [
        "# x: 외부에서 손글씨 이미지 데이터가 들어오는 플레이스홀더\n",
        "# shape(n, 784): 이미지 1개를 표현하는 데 feature 784개 필요\n",
        "x = tf.placeholder(tf.float32, shape=(None,pixels), name='x')"
      ],
      "execution_count": 0,
      "outputs": []
    },
    {
      "cell_type": "markdown",
      "metadata": {
        "id": "WLfbQ_h2J5mZ",
        "colab_type": "text"
      },
      "source": [
        "### 합성곱층a\n",
        "\n",
        "#### W\n",
        "- 가중치를 파라미터로 가지는 필터값 필요\n",
        "- 행렬, 외부에서 주입(X), 내부적인 함수를 활용해 생성 => 텐서의 타입 중 Varibale\n",
        "- 2개의 합성곱층에서 W가 각각 필요 => W를 만드는 함수 필요"
      ]
    },
    {
      "cell_type": "code",
      "metadata": {
        "id": "wg4Vh4tGKgAX",
        "colab_type": "code",
        "colab": {}
      },
      "source": [
        "# shape: 가중치를 공용 파라미터로 가지는 필터(=커널)의 shape / 커널의 크기가 무조건 3x3은 아님\n",
        "# name:  각 구성원들의 이름을 구분하기 위해서 직접 부여\n",
        "def makeWeightVariable(shape, name):\n",
        "  # 변수의 초기값 -> 절단 정규분포를 통한 난수를 발생하는 함수 활용\n",
        "  # shape 크기에 맞춰서 배열을 만들고, 함수가 계산해서 난수를 배치함(커널 크기만큼 행렬이 만들어지고, 난수가 설정됨) \n",
        "  W_initValue = tf.truncated_normal(shape, stddev=0.1)\n",
        "  W = tf.Variable(W_initValue, name=f'W_{name}')\n",
        "  return W"
      ],
      "execution_count": 0,
      "outputs": []
    },
    {
      "cell_type": "code",
      "metadata": {
        "id": "fFq16_3tRM05",
        "colab_type": "code",
        "colab": {}
      },
      "source": [
        "# bias 초기화 함수\n",
        "# 변수로 정의하고 고정 임계값으로 0.1을 임시 부여\n",
        "def makeBiasVariable(shape, name):\n",
        "  b_initValue = tf.constant(0.1, shape=[shape])\n",
        "  b = tf.Variable(b_initValue, name=f'b_{name}')\n",
        "  return b"
      ],
      "execution_count": 0,
      "outputs": []
    },
    {
      "cell_type": "code",
      "metadata": {
        "id": "4AqLXTszSiEh",
        "colab_type": "code",
        "outputId": "30bf9227-94b8-4f80-966d-8e2a9d20f88b",
        "colab": {
          "base_uri": "https://localhost:8080/",
          "height": 55
        }
      },
      "source": [
        "# 합성곱 계층을 만드는 함수\n",
        "def makeConv2d(x, W):\n",
        "  conv2d = tf.nn.conv2d(x, W, strides=[1,1,1,1], padding='SAME')\n",
        "  return conv2d\n",
        "\n",
        "'''\n",
        "tf.nn.conv2d(\n",
        "    input: x => [batch: 1회에 훈련하고자 하는 이미지의 총 개수, \n",
        "                in_height: 세로 크기, in_width: 가로 크기, \n",
        "                in_channels: color에 따라 다름]\n",
        "    filters:(=kernel, 필터의 공용 파라미터, 필터를 구성하는 구성원의 값 W)\n",
        "            => [filter_height, filter_width: 필터의 크기, \n",
        "                in_channels: 입력채널수 -> 1, \n",
        "                out_channels: 출력채널수 -> 임의의 값]\n",
        "    strides: {int scalar}, {int list} lenght=1 or 2 or 4\n",
        "            => [batch, w, h, depth] batch, depth는 통상적으로 1 사용 / w, h는 일반적으로 같은 값\n",
        "            => [1, 1, 1, 1]\n",
        "    padding: 특성맵 보정, 외곽에서 개수가 부족할수도 있는데 이를 통상 0으로 테두리 보정(SAME)\n",
        "    data_format='NHWC',\n",
        "    dilations=None,\n",
        "    name=None\n",
        ")\n",
        "'''"
      ],
      "execution_count": 150,
      "outputs": [
        {
          "output_type": "execute_result",
          "data": {
            "text/plain": [
              "\"\\ntf.nn.conv2d(\\n    input: x => [batch: 1회에 훈련하고자 하는 이미지의 총 개수, \\n                in_height: 세로 크기, in_width: 가로 크기, \\n                in_channels: color에 따라 다름]\\n    filters:(=kernel, 필터의 공용 파라미터, 필터를 구성하는 구성원의 값 W)\\n            => [filter_height, filter_width: 필터의 크기, \\n                in_channels: 입력채널수 -> 1, \\n                out_channels: 출력채널수 -> 임의의 값]\\n    strides: {int scalar}, {int list} lenght=1 or 2 or 4\\n            => [batch, w, h, depth] batch, depth는 통상적으로 1 사용 / w, h는 일반적으로 같은 값\\n            => [1, 1, 1, 1]\\n    padding: 특성맵 보정, 외곽에서 개수가 부족할수도 있는데 이를 통상 0으로 테두리 보정(SAME)\\n    data_format='NHWC',\\n    dilations=None,\\n    name=None\\n)\\n\""
            ]
          },
          "metadata": {
            "tags": []
          },
          "execution_count": 150
        }
      ]
    },
    {
      "cell_type": "code",
      "metadata": {
        "id": "aDDTlZ2EYDcP",
        "colab_type": "code",
        "colab": {}
      },
      "source": [
        "# 합성곱층a 생성: 텐서보드 상에 작업 공간을 잡음\n",
        "with tf.name_scope('conv1') as scope:\n",
        "  # W / shape=[filter_height, filter_width, in_channels, out_channels]\n",
        "  W_conv1 = makeWeightVariable([5, 5, 1, 32], name='conv1')\n",
        "  # b / b의 shape = W의 out_channels\n",
        "  b_conv1 = makeBiasVariable(32, name='conv1')\n",
        "  # x => [batch, h, w, channels]\n",
        "  x_image = tf.reshape(x, [-1, pixel_wh_size, pixel_wh_size, 1])\n",
        "\n",
        "  # 컨볼루션 레이어 생성\n",
        "  # 활성화 함수를 통과시켜서 레이어의 출력물(특성맵)을 비선형으로 보정(활성화맵)\n",
        "  h_conv1 = tf.nn.relu(makeConv2d(x_image, W_conv1) + b_conv1)"
      ],
      "execution_count": 0,
      "outputs": []
    },
    {
      "cell_type": "code",
      "metadata": {
        "id": "e-hqmh13iNCj",
        "colab_type": "code",
        "outputId": "6252860b-1c9e-4e72-865f-88b06f459149",
        "colab": {
          "base_uri": "https://localhost:8080/",
          "height": 35
        }
      },
      "source": [
        "h_conv1.shape"
      ],
      "execution_count": 152,
      "outputs": [
        {
          "output_type": "execute_result",
          "data": {
            "text/plain": [
              "TensorShape([Dimension(None), Dimension(28), Dimension(28), Dimension(32)])"
            ]
          },
          "metadata": {
            "tags": []
          },
          "execution_count": 152
        }
      ]
    },
    {
      "cell_type": "markdown",
      "metadata": {
        "id": "rKKwZEItJ9K0",
        "colab_type": "text"
      },
      "source": [
        "### 풀링층a\n",
        "\n",
        "- 특성맵(or 활성화맵)의 특성을 강화\n",
        "- 최대풀링, 평균풀링, 최소풀링 등 여러개 값 중 하나를 취해서 행렬을 새로 구성(축소)\n",
        "- 샘플링한다고 표현\n",
        "- 크기에 관여 => 얼마만큼 이동하면서 처리할 것인가(stride)\n",
        "- 커널에 파라미터는 없지만 최대/평균/최소 등의 의미는 가짐\n",
        "- input: 합성곱층a의 결과(h_conv1)"
      ]
    },
    {
      "cell_type": "code",
      "metadata": {
        "id": "s5NdohGIp5wW",
        "colab_type": "code",
        "outputId": "4ccaf160-aad9-4a3b-c366-b8a8078ff247",
        "colab": {
          "base_uri": "https://localhost:8080/",
          "height": 55
        }
      },
      "source": [
        "def makeMaxPooling(x):\n",
        "  return tf.nn.max_pool(x, ksize=[1, 2, 2, 1], strides=[1, 2, 2, 1], padding='SAME')\n",
        "\n",
        "'''\n",
        "  tf.nn.max_pool(\n",
        "    value: 이전 계층의 출력값=>[batch, h, w, channels],\n",
        "    ksize: 풀링 수행을 위한 슬라이딩 윈도우(=커널,필터)의 크기=>[, h, w, ],\n",
        "    strides: ksize의 이동 폭=>[batch, w, h, depth],\n",
        "    # 일반적으로 ksize와 strides 동일하게 준다\n",
        "    padding: 보정,\n",
        "  )\n",
        "'''"
      ],
      "execution_count": 153,
      "outputs": [
        {
          "output_type": "execute_result",
          "data": {
            "text/plain": [
              "'\\n  tf.nn.max_pool(\\n    value: 이전 계층의 출력값=>[batch, h, w, channels],\\n    ksize: 풀링 수행을 위한 슬라이딩 윈도우(=커널,필터)의 크기=>[, h, w, ],\\n    strides: ksize의 이동 폭=>[batch, w, h, depth],\\n    # 일반적으로 ksize와 strides 동일하게 준다\\n    padding: 보정,\\n  )\\n'"
            ]
          },
          "metadata": {
            "tags": []
          },
          "execution_count": 153
        }
      ]
    },
    {
      "cell_type": "code",
      "metadata": {
        "id": "PJjfUTIKtDwn",
        "colab_type": "code",
        "colab": {}
      },
      "source": [
        "# 풀링층a 생성\n",
        "with tf.name_scope('pool1') as scope:\n",
        "  h_pool1 = makeMaxPooling(h_conv1)"
      ],
      "execution_count": 0,
      "outputs": []
    },
    {
      "cell_type": "code",
      "metadata": {
        "id": "Hdruwi9ctejF",
        "colab_type": "code",
        "outputId": "c8277ea2-decd-4bab-9d82-9ad19aea06fc",
        "colab": {
          "base_uri": "https://localhost:8080/",
          "height": 35
        }
      },
      "source": [
        "h_pool1.shape"
      ],
      "execution_count": 155,
      "outputs": [
        {
          "output_type": "execute_result",
          "data": {
            "text/plain": [
              "TensorShape([Dimension(None), Dimension(14), Dimension(14), Dimension(32)])"
            ]
          },
          "metadata": {
            "tags": []
          },
          "execution_count": 155
        }
      ]
    },
    {
      "cell_type": "markdown",
      "metadata": {
        "id": "4FD-AOatJ9Nt",
        "colab_type": "text"
      },
      "source": [
        "### 합성곱층b"
      ]
    },
    {
      "cell_type": "code",
      "metadata": {
        "id": "R1roG1XEnJTH",
        "colab_type": "code",
        "colab": {}
      },
      "source": [
        "# 레이어를 하나 더 쌓음\n",
        "with tf.name_scope('conv2') as scope:\n",
        "  W_conv2 = makeWeightVariable([5, 5, 32, 64], name='conv2')\n",
        "  b_conv2 = makeBiasVariable(64, name='conv2')\n",
        "  h_conv2 = tf.nn.relu(makeConv2d(h_pool1, W_conv2) + b_conv2)"
      ],
      "execution_count": 0,
      "outputs": []
    },
    {
      "cell_type": "code",
      "metadata": {
        "id": "3xHRmMlMoZTI",
        "colab_type": "code",
        "outputId": "4ca184b3-53b0-4348-e95d-a45bf9e9d95a",
        "colab": {
          "base_uri": "https://localhost:8080/",
          "height": 35
        }
      },
      "source": [
        "h_conv2.shape"
      ],
      "execution_count": 157,
      "outputs": [
        {
          "output_type": "execute_result",
          "data": {
            "text/plain": [
              "TensorShape([Dimension(None), Dimension(14), Dimension(14), Dimension(64)])"
            ]
          },
          "metadata": {
            "tags": []
          },
          "execution_count": 157
        }
      ]
    },
    {
      "cell_type": "markdown",
      "metadata": {
        "id": "lKf_4WVGJ_Ms",
        "colab_type": "text"
      },
      "source": [
        "### 풀링층b"
      ]
    },
    {
      "cell_type": "code",
      "metadata": {
        "id": "vDb1gF9uobtH",
        "colab_type": "code",
        "colab": {}
      },
      "source": [
        "with tf.name_scope('pool2') as scope:\n",
        "  h_pool2 = makeMaxPooling(h_conv2)"
      ],
      "execution_count": 0,
      "outputs": []
    },
    {
      "cell_type": "code",
      "metadata": {
        "id": "c2LS7ysNofwS",
        "colab_type": "code",
        "outputId": "155442ac-ead4-4fac-b745-ba5bee9cbbf0",
        "colab": {
          "base_uri": "https://localhost:8080/",
          "height": 35
        }
      },
      "source": [
        "h_pool2.shape"
      ],
      "execution_count": 159,
      "outputs": [
        {
          "output_type": "execute_result",
          "data": {
            "text/plain": [
              "TensorShape([Dimension(None), Dimension(7), Dimension(7), Dimension(64)])"
            ]
          },
          "metadata": {
            "tags": []
          },
          "execution_count": 159
        }
      ]
    },
    {
      "cell_type": "markdown",
      "metadata": {
        "id": "owcTOyeMKE6p",
        "colab_type": "text"
      },
      "source": [
        "### 전결합층\n",
        "\n",
        "- 원본 이미지는 풀링계층을 두번 통과하면서 크기가 28/2/2 = 7이 됨\n",
        "- 출력층으로 가기 직전 단계로써, 행렬 데이터를 Flatten(h, w, c를 한 줄의 데이터로 펴줌)하는 것이 목적\n",
        "- 최종 데이터: [n, size(조정가능)]"
      ]
    },
    {
      "cell_type": "code",
      "metadata": {
        "id": "ErbrQYIBqtP1",
        "colab_type": "code",
        "colab": {}
      },
      "source": [
        "with tf.name_scope('fully_connected') as scope:\n",
        "  # 이미지 데이터 size => n\n",
        "  n = 7 * 7 * 64\n",
        "  # 1024는 임의의 설정 값: n(=3136) -> 1024\n",
        "  W_fc = makeWeightVariable([n,1024], name='fc')\n",
        "  b_fc = makeBiasVariable(1024, name='fc')\n",
        "  # 이전 계층의 출력 데이터를 flatten 처리\n",
        "  h_pool2_flat = tf.reshape(h_pool2, [-1, n])\n",
        "  h_fc = tf.nn.relu( tf.matmul( h_pool2_flat, W_fc ) + b_fc )\n"
      ],
      "execution_count": 0,
      "outputs": []
    },
    {
      "cell_type": "code",
      "metadata": {
        "id": "w2voQhpywB9j",
        "colab_type": "code",
        "outputId": "3253c856-02cf-4b4a-bcd7-b0265b2308ad",
        "colab": {
          "base_uri": "https://localhost:8080/",
          "height": 35
        }
      },
      "source": [
        "h_fc.shape"
      ],
      "execution_count": 161,
      "outputs": [
        {
          "output_type": "execute_result",
          "data": {
            "text/plain": [
              "TensorShape([Dimension(None), Dimension(1024)])"
            ]
          },
          "metadata": {
            "tags": []
          },
          "execution_count": 161
        }
      ]
    },
    {
      "cell_type": "markdown",
      "metadata": {
        "id": "EMWO4muAKHCw",
        "colab_type": "text"
      },
      "source": [
        "### 드롭아웃층\n",
        "\n",
        "- 과적합 방지\n",
        "- 랜덤하게 뉴런을 일부 죽여서 학습을 방해\n"
      ]
    },
    {
      "cell_type": "code",
      "metadata": {
        "id": "FZ6vLLAKw4uz",
        "colab_type": "code",
        "colab": {}
      },
      "source": [
        "with tf.name_scope('dropout1') as scope:\n",
        "  keep_prob = tf.placeholder(tf.float32)\n",
        "  h_fc_drop = tf.nn.dropout(h_fc, rate = 1 - keep_prob)"
      ],
      "execution_count": 0,
      "outputs": []
    },
    {
      "cell_type": "code",
      "metadata": {
        "id": "doJB8sMoxUkq",
        "colab_type": "code",
        "outputId": "120fc103-68cf-401a-def8-0e6fa5240238",
        "colab": {
          "base_uri": "https://localhost:8080/",
          "height": 35
        }
      },
      "source": [
        "h_fc_drop"
      ],
      "execution_count": 163,
      "outputs": [
        {
          "output_type": "execute_result",
          "data": {
            "text/plain": [
              "<tf.Tensor 'dropout1/dropout/mul_1:0' shape=(?, 1024) dtype=float32>"
            ]
          },
          "metadata": {
            "tags": []
          },
          "execution_count": 163
        }
      ]
    },
    {
      "cell_type": "markdown",
      "metadata": {
        "id": "xaKQQTmyKIqJ",
        "colab_type": "text"
      },
      "source": [
        "### 출력층\n",
        "\n",
        "- 이전 단계의 출력 데이터를 최종 레이블의 shape로 맞춘다(1024->10)\n",
        "- 이 과정에서 활성화 함수 사용\n",
        "  - softmax 사용\n",
        "    - 입력을 0~1로 정규화 해 출력\n",
        "    - 모든 값들의 총합은 1 -> 특정 값이 나오는 확률(%)로 표현 가능\n",
        "    - 일반적으로 뉴럴네트워크에서는 sigmoid를 사용\n",
        "    - 3가지 이상 범주형 분류(다항분류)의 경우 softmax를 가장 많이 사용\n"
      ]
    },
    {
      "cell_type": "code",
      "metadata": {
        "id": "e4rMOXbQy_HW",
        "colab_type": "code",
        "colab": {}
      },
      "source": [
        "with tf.name_scope('output') as scope:\n",
        "  W_out = makeWeightVariable([1024,10], name='output')\n",
        "  b_out = makeBiasVariable(10, name='output')\n",
        "  y_conv = tf.nn.softmax( tf.matmul( h_fc_drop, W_out ) + b_out )"
      ],
      "execution_count": 0,
      "outputs": []
    },
    {
      "cell_type": "code",
      "metadata": {
        "id": "f1DG1_uk8jAK",
        "colab_type": "code",
        "outputId": "d09cd988-d3b0-44d8-8c54-cc068c0f2400",
        "colab": {
          "base_uri": "https://localhost:8080/",
          "height": 35
        }
      },
      "source": [
        "y_conv"
      ],
      "execution_count": 165,
      "outputs": [
        {
          "output_type": "execute_result",
          "data": {
            "text/plain": [
              "<tf.Tensor 'output/Softmax:0' shape=(?, 10) dtype=float32>"
            ]
          },
          "metadata": {
            "tags": []
          },
          "execution_count": 165
        }
      ]
    },
    {
      "cell_type": "code",
      "metadata": {
        "id": "9cd6Szb9zCz8",
        "colab_type": "code",
        "colab": {}
      },
      "source": [
        "# 이후 실행에 필요한 정답 벡터가 들어갈 플레이스홀더 준비\n",
        "y_ = tf.placeholder(tf.float32, shape=(None, nums), name='y_')"
      ],
      "execution_count": 0,
      "outputs": []
    },
    {
      "cell_type": "markdown",
      "metadata": {
        "id": "dAjU4Bcr1Knm",
        "colab_type": "text"
      },
      "source": [
        "## 5-2. 실행(학습, 예측, 평가)"
      ]
    },
    {
      "cell_type": "markdown",
      "metadata": {
        "id": "otf8jsRw1RCv",
        "colab_type": "text"
      },
      "source": [
        "### 크로스 엔트로피, 손실\n",
        "\n",
        "- 비용(cost), 손실(loss) 등은 원하는 결과에서 얼마나 떨어져 있는지 보여주는 지표\n",
        "- 이 격차를 줄이는 방향으로 전개"
      ]
    },
    {
      "cell_type": "code",
      "metadata": {
        "id": "fhy0sdzK2BYQ",
        "colab_type": "code",
        "colab": {}
      },
      "source": [
        "with tf.name_scope('loss') as scope:\n",
        "  cross_entropy = -tf.reduce_sum( y_ * tf.log(y_conv) )"
      ],
      "execution_count": 0,
      "outputs": []
    },
    {
      "cell_type": "markdown",
      "metadata": {
        "id": "l2jh48Ej1TUc",
        "colab_type": "text"
      },
      "source": [
        "### 경사 하강법\n",
        "\n",
        "- 크로스엔트로피의 값(손실함수의 값)이 작아지도록 이동시키는 방법\n",
        "- 확률적 경사하강법\n",
        "  - 무작위로 초기화한 매개변수를 이용"
      ]
    },
    {
      "cell_type": "code",
      "metadata": {
        "id": "KD5Lq9Yh3D7c",
        "colab_type": "code",
        "colab": {}
      },
      "source": [
        "with tf.name_scope('sgd') as scope:\n",
        "  optimizer = tf.train.AdamOptimizer(1e-4)\n",
        "  train_step = optimizer.minimize(cross_entropy)"
      ],
      "execution_count": 0,
      "outputs": []
    },
    {
      "cell_type": "markdown",
      "metadata": {
        "id": "XGnrHIw41TW9",
        "colab_type": "text"
      },
      "source": [
        "### 예측, 평가"
      ]
    },
    {
      "cell_type": "code",
      "metadata": {
        "id": "wSBeee843ixh",
        "colab_type": "code",
        "colab": {}
      },
      "source": [
        "with tf.name_scope('predict') as scope:\n",
        "  predict_step = tf.equal( tf.arg_max(y_conv, 1), tf.arg_max(y_, 1) )\n",
        "  accuracy_step = tf.reduce_mean( tf.cast(predict_step, tf.float32) )"
      ],
      "execution_count": 0,
      "outputs": []
    },
    {
      "cell_type": "markdown",
      "metadata": {
        "id": "FwPjA3Mm4dIf",
        "colab_type": "text"
      },
      "source": [
        "### 데이터 주입 함수화\n",
        "\n",
        "- 데이터 플로우 그래프 전체에서 placeholder를 모두 찾아서 명시\n",
        "- x, y, keep_prob\n"
      ]
    },
    {
      "cell_type": "code",
      "metadata": {
        "id": "7h2C8OHX4osZ",
        "colab_type": "code",
        "colab": {}
      },
      "source": [
        "def makeFeedDict( imgs, labels, prob ):\n",
        "  return { x:imgs, y_:labels, keep_prob:prob}"
      ],
      "execution_count": 0,
      "outputs": []
    },
    {
      "cell_type": "markdown",
      "metadata": {
        "id": "GEoHn3v31fbx",
        "colab_type": "text"
      },
      "source": [
        "### 실행"
      ]
    },
    {
      "cell_type": "code",
      "metadata": {
        "id": "hfwaBmfU9Tt8",
        "colab_type": "code",
        "outputId": "7b947088-e931-4572-e4ff-e816f9f0e766",
        "colab": {
          "base_uri": "https://localhost:8080/",
          "height": 629
        }
      },
      "source": [
        "from tensorboardcolab import *\n",
        "import shutil, os\n",
        "# 디렉토리 및 그 이하 파일가지 삭제, 에러나면 무시\n",
        "shutil.rmtree('./Graph', ignore_errors=True) \n",
        "# 디렉토리 생성\n",
        "os.mkdir('./Graph')\n",
        "# 기존의 tf에 만들어진 요소들 초기화 처리(에러가 날수도 있다)\n",
        "# tf.reset_default_graph()\n",
        "# 텐서보드 객체 생성\n",
        "tbc = TensorBoardColab()\n",
        "\n",
        "TRAIN_CNT = 3000 #학습총횟수\n",
        "with tf.Session() as sess:\n",
        "  # 1. 텐서플로우 변수 초기화\n",
        "  sess.run(tf.global_variables_initializer())\n",
        "  # 2. 테스트용 데이터 준비\n",
        "  test_fd = makeFeedDict(mnist.test.images, mnist.test.labels, 1)\n",
        "  # 3. 반복학습\n",
        "  for step in range(TRAIN_CNT):\n",
        "    # 3-1. batch 사이즈(1회 기준.gpu 메모리 계산) 기준으로 훈련 데이터를 준비\n",
        "    batch = mnist.train.next_batch(batch_size=50)\n",
        "    # 3-2. 훈련용 데이터 준비\n",
        "    train_fd = makeFeedDict(batch[0], batch[1], 0.5)\n",
        "    # 3-3. 훈련(데이터 주입)\n",
        "    _, loss = sess.run([train_step, cross_entropy], feed_dict=train_fd)\n",
        "    # 3-4. 특정 횟수마다 로그 출력\n",
        "    if step % 100 == 0:\n",
        "      accuracy = sess.run(accuracy_step, feed_dict=test_fd)\n",
        "      print(f'{step}번째 정확도:{accuracy}/손실:{loss}')\n",
        "  # 4. 출력\n",
        "  f_acc = sess.run(accuracy_step, feed_dict=test_fd)\n",
        "  print(f'최종 정답률:{accuracy}')\n",
        "  # 5. 텐서보드 기록\n",
        "  writer = tbc.get_writer()\n",
        "  writer.add_graph( sess.graph ) # 그래프 추가=\n",
        "  writer.flush() # 강제로 전송\n",
        "  # ---------------------------------------------------------------------\n",
        "\n",
        "# 텐서보드를 닫는다 \n",
        "tbc.close()"
      ],
      "execution_count": 171,
      "outputs": [
        {
          "output_type": "stream",
          "text": [
            "Wait for 8 seconds...\n",
            "TensorBoard link:\n",
            "https://4a4a786a.ngrok.io\n",
            "0번째 정확도:0.16619999706745148/손실:496.42242431640625\n",
            "100번째 정확도:0.8421000242233276/손실:45.937103271484375\n",
            "200번째 정확도:0.9151999950408936/손실:21.51087188720703\n",
            "300번째 정확도:0.9259999990463257/손실:33.51099395751953\n",
            "400번째 정확도:0.946399986743927/손실:12.881881713867188\n",
            "500번째 정확도:0.9520000219345093/손실:10.291302680969238\n",
            "600번째 정확도:0.957099974155426/손실:15.444109916687012\n",
            "700번째 정확도:0.9607999920845032/손실:9.907418251037598\n",
            "800번째 정확도:0.9628999829292297/손실:7.703657627105713\n",
            "900번째 정확도:0.9678999781608582/손실:4.632031440734863\n",
            "1000번째 정확도:0.967199981212616/손실:11.409454345703125\n",
            "1100번째 정확도:0.9703999757766724/손실:9.504620552062988\n",
            "1200번째 정확도:0.9710999727249146/손실:11.781147956848145\n",
            "1300번째 정확도:0.9726999998092651/손실:3.939415693283081\n",
            "1400번째 정확도:0.9724000096321106/손실:3.0913968086242676\n",
            "1500번째 정확도:0.9763000011444092/손실:9.12407112121582\n",
            "1600번째 정확도:0.9764000177383423/손실:6.6935014724731445\n",
            "1700번째 정확도:0.9750999808311462/손실:2.344017505645752\n",
            "1800번째 정확도:0.9775000214576721/손실:2.7863876819610596\n",
            "1900번째 정확도:0.9772999882698059/손실:5.027378082275391\n",
            "2000번째 정확도:0.9781000018119812/손실:14.976134300231934\n",
            "2100번째 정확도:0.9793999791145325/손실:10.639662742614746\n",
            "2200번째 정확도:0.9800999760627747/손실:1.8543509244918823\n",
            "2300번째 정확도:0.9800999760627747/손실:2.6747894287109375\n",
            "2400번째 정확도:0.9771999716758728/손실:8.400480270385742\n",
            "2500번째 정확도:0.9819999933242798/손실:1.0235728025436401\n",
            "2600번째 정확도:0.9814000129699707/손실:1.9144532680511475\n",
            "2700번째 정확도:0.9829999804496765/손실:1.1777820587158203\n",
            "2800번째 정확도:0.9812999963760376/손실:2.1202712059020996\n",
            "2900번째 정확도:0.982699990272522/손실:0.6930253505706787\n",
            "최종 정답률:0.982699990272522\n"
          ],
          "name": "stdout"
        }
      ]
    },
    {
      "cell_type": "markdown",
      "metadata": {
        "id": "sWTZ2-TZzJvT",
        "colab_type": "text"
      },
      "source": [
        "# 6. 시스템 통합(생략)"
      ]
    }
  ]
}