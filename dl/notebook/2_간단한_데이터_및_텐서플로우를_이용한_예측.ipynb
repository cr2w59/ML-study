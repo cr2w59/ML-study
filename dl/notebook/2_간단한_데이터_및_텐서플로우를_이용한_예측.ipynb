{
  "nbformat": 4,
  "nbformat_minor": 0,
  "metadata": {
    "colab": {
      "name": "2. 간단한 데이터 및 텐서플로우를 이용한 예측.ipynb",
      "provenance": [],
      "collapsed_sections": []
    },
    "kernelspec": {
      "name": "python3",
      "display_name": "Python 3"
    }
  },
  "cells": [
    {
      "cell_type": "markdown",
      "metadata": {
        "id": "CP52R79JrjwM",
        "colab_type": "text"
      },
      "source": [
        "# 목표\n",
        "\n",
        "- BMI 지수 = (몸무게 / 키) * 키\n",
        "- BMI를 이용하여 비만도를 측정\n",
        "- 알고리즘 SVM을 이용하여 BMI를 학습, 비만도 판정"
      ]
    },
    {
      "cell_type": "markdown",
      "metadata": {
        "id": "-9ZnYgvwsJFo",
        "colab_type": "text"
      },
      "source": [
        "# 데이터 획득"
      ]
    },
    {
      "cell_type": "code",
      "metadata": {
        "id": "kw2Ab0Fcxxft",
        "colab_type": "code",
        "colab": {}
      },
      "source": [
        "import pandas as pd\n",
        "import numpy as np"
      ],
      "execution_count": 0,
      "outputs": []
    },
    {
      "cell_type": "code",
      "metadata": {
        "id": "aqhO13WXx0aG",
        "colab_type": "code",
        "colab": {
          "base_uri": "https://localhost:8080/",
          "height": 111
        },
        "outputId": "ea36287d-5256-409b-accc-c2676ece6e6c"
      },
      "source": [
        "df = pd.read_csv('3_bmi.csv')\n",
        "df.head(2)"
      ],
      "execution_count": 20,
      "outputs": [
        {
          "output_type": "execute_result",
          "data": {
            "text/html": [
              "<div>\n",
              "<style scoped>\n",
              "    .dataframe tbody tr th:only-of-type {\n",
              "        vertical-align: middle;\n",
              "    }\n",
              "\n",
              "    .dataframe tbody tr th {\n",
              "        vertical-align: top;\n",
              "    }\n",
              "\n",
              "    .dataframe thead th {\n",
              "        text-align: right;\n",
              "    }\n",
              "</style>\n",
              "<table border=\"1\" class=\"dataframe\">\n",
              "  <thead>\n",
              "    <tr style=\"text-align: right;\">\n",
              "      <th></th>\n",
              "      <th>height</th>\n",
              "      <th>weight</th>\n",
              "      <th>label</th>\n",
              "    </tr>\n",
              "  </thead>\n",
              "  <tbody>\n",
              "    <tr>\n",
              "      <th>0</th>\n",
              "      <td>178</td>\n",
              "      <td>69</td>\n",
              "      <td>normal</td>\n",
              "    </tr>\n",
              "    <tr>\n",
              "      <th>1</th>\n",
              "      <td>190</td>\n",
              "      <td>62</td>\n",
              "      <td>thin</td>\n",
              "    </tr>\n",
              "  </tbody>\n",
              "</table>\n",
              "</div>"
            ],
            "text/plain": [
              "   height  weight   label\n",
              "0     178      69  normal\n",
              "1     190      62    thin"
            ]
          },
          "metadata": {
            "tags": []
          },
          "execution_count": 20
        }
      ]
    },
    {
      "cell_type": "markdown",
      "metadata": {
        "id": "Vcben60VsLC5",
        "colab_type": "text"
      },
      "source": [
        "# 데이터 준비\n",
        "- 품질 향상"
      ]
    },
    {
      "cell_type": "code",
      "metadata": {
        "id": "gh5bYTWDx0fF",
        "colab_type": "code",
        "colab": {
          "base_uri": "https://localhost:8080/",
          "height": 71
        },
        "outputId": "b171b758-b73d-41e4-d3cb-b338c92b02b0"
      },
      "source": [
        "df.shape, df.columns, df['label'].unique()"
      ],
      "execution_count": 21,
      "outputs": [
        {
          "output_type": "execute_result",
          "data": {
            "text/plain": [
              "((20000, 3),\n",
              " Index(['height', 'weight', 'label'], dtype='object'),\n",
              " array(['normal', 'thin', 'fat'], dtype=object))"
            ]
          },
          "metadata": {
            "tags": []
          },
          "execution_count": 21
        }
      ]
    },
    {
      "cell_type": "code",
      "metadata": {
        "id": "qqPpadYazXxM",
        "colab_type": "code",
        "colab": {
          "base_uri": "https://localhost:8080/",
          "height": 89
        },
        "outputId": "719734e9-82f8-45df-8846-e25ebfab849a"
      },
      "source": [
        "df.dtypes"
      ],
      "execution_count": 22,
      "outputs": [
        {
          "output_type": "execute_result",
          "data": {
            "text/plain": [
              "height     int64\n",
              "weight     int64\n",
              "label     object\n",
              "dtype: object"
            ]
          },
          "metadata": {
            "tags": []
          },
          "execution_count": 22
        }
      ]
    },
    {
      "cell_type": "code",
      "metadata": {
        "id": "M0qcxMlGyuVk",
        "colab_type": "code",
        "colab": {
          "base_uri": "https://localhost:8080/",
          "height": 35
        },
        "outputId": "e8a203cc-339d-455e-8493-5d11d3e3d518"
      },
      "source": [
        "df['height'].max(), df['height'].min(), df['weight'].max(), df['weight'].min()"
      ],
      "execution_count": 23,
      "outputs": [
        {
          "output_type": "execute_result",
          "data": {
            "text/plain": [
              "(200, 120, 80, 35)"
            ]
          },
          "metadata": {
            "tags": []
          },
          "execution_count": 23
        }
      ]
    },
    {
      "cell_type": "code",
      "metadata": {
        "id": "v-x8jOigyuZC",
        "colab_type": "code",
        "colab": {
          "base_uri": "https://localhost:8080/",
          "height": 111
        },
        "outputId": "9703d1e7-6da6-4c76-be61-3b83b939df96"
      },
      "source": [
        "# 데이터 정규화 -> 무게, 키의 최대치를 기준으로 처리\n",
        "# 처리된 값을 다시 해당 컬럼에 대입\n",
        "\n",
        "df['height'] = df['height'] / df['height'].max()\n",
        "df['weight'] = df['weight'] / df['weight'].max()\n",
        "df.head(2)"
      ],
      "execution_count": 24,
      "outputs": [
        {
          "output_type": "execute_result",
          "data": {
            "text/html": [
              "<div>\n",
              "<style scoped>\n",
              "    .dataframe tbody tr th:only-of-type {\n",
              "        vertical-align: middle;\n",
              "    }\n",
              "\n",
              "    .dataframe tbody tr th {\n",
              "        vertical-align: top;\n",
              "    }\n",
              "\n",
              "    .dataframe thead th {\n",
              "        text-align: right;\n",
              "    }\n",
              "</style>\n",
              "<table border=\"1\" class=\"dataframe\">\n",
              "  <thead>\n",
              "    <tr style=\"text-align: right;\">\n",
              "      <th></th>\n",
              "      <th>height</th>\n",
              "      <th>weight</th>\n",
              "      <th>label</th>\n",
              "    </tr>\n",
              "  </thead>\n",
              "  <tbody>\n",
              "    <tr>\n",
              "      <th>0</th>\n",
              "      <td>0.89</td>\n",
              "      <td>0.8625</td>\n",
              "      <td>normal</td>\n",
              "    </tr>\n",
              "    <tr>\n",
              "      <th>1</th>\n",
              "      <td>0.95</td>\n",
              "      <td>0.7750</td>\n",
              "      <td>thin</td>\n",
              "    </tr>\n",
              "  </tbody>\n",
              "</table>\n",
              "</div>"
            ],
            "text/plain": [
              "   height  weight   label\n",
              "0    0.89  0.8625  normal\n",
              "1    0.95  0.7750    thin"
            ]
          },
          "metadata": {
            "tags": []
          },
          "execution_count": 24
        }
      ]
    },
    {
      "cell_type": "code",
      "metadata": {
        "id": "kcT6yJ1R07Bq",
        "colab_type": "code",
        "colab": {}
      },
      "source": [
        "# label은 종속변수. 분류를 벡터화해서 처리\n",
        "# 케이스 총 3개\n",
        "# thin->[1, 0, 0] / normal->[0, 1, 0] / fat->[0, 0, 1]\n",
        "df['label'] = df['label'].apply(lambda x : {'thin':np.array([1,0,0]), 'normal':np.array([0,1,0]), 'fat':np.array([0,0,1])}[x])"
      ],
      "execution_count": 0,
      "outputs": []
    },
    {
      "cell_type": "code",
      "metadata": {
        "id": "ZgJ7TSH55K3q",
        "colab_type": "code",
        "colab": {}
      },
      "source": [
        "# 데이터 분류\n",
        "from sklearn.model_selection import train_test_split"
      ],
      "execution_count": 0,
      "outputs": []
    },
    {
      "cell_type": "code",
      "metadata": {
        "id": "OyuKWI885Vx7",
        "colab_type": "code",
        "colab": {}
      },
      "source": [
        "X_train, X_test, y_train, y_test = train_test_split(df[['height', 'weight']], df['label'], test_size=0.25, random_state=0)"
      ],
      "execution_count": 0,
      "outputs": []
    },
    {
      "cell_type": "markdown",
      "metadata": {
        "id": "UqYek3M8sykH",
        "colab_type": "text"
      },
      "source": [
        "# 데이터 분석\n",
        "- 생략"
      ]
    },
    {
      "cell_type": "markdown",
      "metadata": {
        "id": "YSSrw-aOtUhD",
        "colab_type": "text"
      },
      "source": [
        "# 머신러닝 모델링(딥러닝, 텐서플로우 사용)\n",
        " - 퍼셉트론\n",
        " - 각각의 출력값에 대해 가중치 계산, 바이어스(편향, 조정한 값)를 더해서 softmax라는 함수로 적용\n",
        " - 해당 이론을 수식으로 정리하여 함수로 표현\n",
        " - y = softmax(Wx + b)"
      ]
    },
    {
      "cell_type": "code",
      "metadata": {
        "id": "39_YTd2-yucb",
        "colab_type": "code",
        "colab": {}
      },
      "source": [
        "import tensorflow as tf\n",
        "%tensorflow_version 1.x"
      ],
      "execution_count": 0,
      "outputs": []
    },
    {
      "cell_type": "code",
      "metadata": {
        "id": "9WgchHzbyugE",
        "colab_type": "code",
        "colab": {}
      },
      "source": [
        "# 텐서플로우로 수식 구현\n",
        "# input(x): 키, 몸무게\n",
        "x = tf.placeholder(tf.float32, [None,2])"
      ],
      "execution_count": 0,
      "outputs": []
    },
    {
      "cell_type": "code",
      "metadata": {
        "id": "5TFzj1UmEUuH",
        "colab_type": "code",
        "colab": {}
      },
      "source": [
        "# 가중치: shape 고려\n",
        "W = tf.Variable(tf.zeros([2,3]))"
      ],
      "execution_count": 0,
      "outputs": []
    },
    {
      "cell_type": "code",
      "metadata": {
        "id": "duLuB8bsGSYk",
        "colab_type": "code",
        "colab": {}
      },
      "source": [
        "# b(bias): 편향값\n",
        "b = tf.Variable(tf.zeros([3]))"
      ],
      "execution_count": 0,
      "outputs": []
    },
    {
      "cell_type": "code",
      "metadata": {
        "id": "D-iPEU6FFBb0",
        "colab_type": "code",
        "colab": {}
      },
      "source": [
        "# 데이터 플로우 그래프: y = softmax(Wx+b)\n",
        "# x: matrix, 2차 행렬, [none, 2]\n",
        "# 행렬의 곱 (none, 2) * (2, 3) -> (none, 3)\n",
        "y = tf.nn.softmax(tf.matmul(x,W)+b)"
      ],
      "execution_count": 0,
      "outputs": []
    },
    {
      "cell_type": "code",
      "metadata": {
        "id": "ElNF1fmyHe_y",
        "colab_type": "code",
        "colab": {
          "base_uri": "https://localhost:8080/",
          "height": 35
        },
        "outputId": "3c0b2e3a-8c9b-41a2-9a77-c7b989387081"
      },
      "source": [
        "f'{x.shape} X {W.shape} + {b.shape} = {y.shape}'"
      ],
      "execution_count": 48,
      "outputs": [
        {
          "output_type": "execute_result",
          "data": {
            "text/plain": [
              "'(?, 2) X (2, 3) + (3,) = (?, 3)'"
            ]
          },
          "metadata": {
            "tags": []
          },
          "execution_count": 48
        }
      ]
    },
    {
      "cell_type": "markdown",
      "metadata": {
        "id": "E4VqRPRWtWax",
        "colab_type": "text"
      },
      "source": [
        "# 시스템 통합\n",
        "- 산출물 skip"
      ]
    },
    {
      "cell_type": "code",
      "metadata": {
        "id": "8jHRvqcUqt7V",
        "colab_type": "code",
        "colab": {}
      },
      "source": [
        ""
      ],
      "execution_count": 0,
      "outputs": []
    }
  ]
}